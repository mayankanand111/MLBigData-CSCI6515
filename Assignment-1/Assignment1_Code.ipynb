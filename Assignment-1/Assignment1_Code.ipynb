{
 "cells": [
  {
   "cell_type": "code",
   "execution_count": 1,
   "id": "62c0a15c",
   "metadata": {},
   "outputs": [],
   "source": [
    "import pandas as pd\n",
    "import numpy as np\n",
    "import sklearn as sk\n",
    "from sklearn import preprocessing\n",
    "from sklearn.model_selection import train_test_split\n",
    "from sklearn.tree import DecisionTreeClassifier\n",
    "from sklearn.metrics import confusion_matrix\n",
    "from sklearn.metrics import accuracy_score\n",
    "from sklearn.metrics import classification_report\n",
    "from sklearn.model_selection import KFold\n",
    "from sklearn.model_selection import cross_val_score\n",
    "from sklearn.model_selection import ShuffleSplit\n",
    "from sklearn.model_selection import KFold\n",
    "from sklearn import tree"
   ]
  },
  {
   "cell_type": "code",
   "execution_count": 2,
   "id": "812c4713",
   "metadata": {},
   "outputs": [
    {
     "data": {
      "text/html": [
       "<div>\n",
       "<style scoped>\n",
       "    .dataframe tbody tr th:only-of-type {\n",
       "        vertical-align: middle;\n",
       "    }\n",
       "\n",
       "    .dataframe tbody tr th {\n",
       "        vertical-align: top;\n",
       "    }\n",
       "\n",
       "    .dataframe thead th {\n",
       "        text-align: right;\n",
       "    }\n",
       "</style>\n",
       "<table border=\"1\" class=\"dataframe\">\n",
       "  <thead>\n",
       "    <tr style=\"text-align: right;\">\n",
       "      <th></th>\n",
       "      <th>Date</th>\n",
       "      <th>HIGHWAY</th>\n",
       "      <th>SECTION</th>\n",
       "      <th>SECTION LENGTH</th>\n",
       "      <th>ADT</th>\n",
       "      <th>AADT</th>\n",
       "    </tr>\n",
       "  </thead>\n",
       "  <tbody>\n",
       "    <tr>\n",
       "      <th>0</th>\n",
       "      <td>09/09/2019</td>\n",
       "      <td>1</td>\n",
       "      <td>47</td>\n",
       "      <td>4.50</td>\n",
       "      <td>2.566</td>\n",
       "      <td>2.430</td>\n",
       "    </tr>\n",
       "    <tr>\n",
       "      <th>1</th>\n",
       "      <td>06/17/2019</td>\n",
       "      <td>1</td>\n",
       "      <td>50</td>\n",
       "      <td>7.60</td>\n",
       "      <td>4.266</td>\n",
       "      <td>3.840</td>\n",
       "    </tr>\n",
       "    <tr>\n",
       "      <th>2</th>\n",
       "      <td>06/17/2019</td>\n",
       "      <td>1</td>\n",
       "      <td>50</td>\n",
       "      <td>7.60</td>\n",
       "      <td>3.934</td>\n",
       "      <td>3.545</td>\n",
       "    </tr>\n",
       "    <tr>\n",
       "      <th>3</th>\n",
       "      <td>06/17/2019</td>\n",
       "      <td>1</td>\n",
       "      <td>50</td>\n",
       "      <td>7.60</td>\n",
       "      <td>2.924</td>\n",
       "      <td>2.640</td>\n",
       "    </tr>\n",
       "    <tr>\n",
       "      <th>4</th>\n",
       "      <td>09/09/2019</td>\n",
       "      <td>1</td>\n",
       "      <td>50</td>\n",
       "      <td>7.60</td>\n",
       "      <td>6.164</td>\n",
       "      <td>5.520</td>\n",
       "    </tr>\n",
       "    <tr>\n",
       "      <th>...</th>\n",
       "      <td>...</td>\n",
       "      <td>...</td>\n",
       "      <td>...</td>\n",
       "      <td>...</td>\n",
       "      <td>...</td>\n",
       "      <td>...</td>\n",
       "    </tr>\n",
       "    <tr>\n",
       "      <th>581</th>\n",
       "      <td>06/27/2019</td>\n",
       "      <td>374</td>\n",
       "      <td>28</td>\n",
       "      <td>6.83</td>\n",
       "      <td>241.000</td>\n",
       "      <td>220.000</td>\n",
       "    </tr>\n",
       "    <tr>\n",
       "      <th>582</th>\n",
       "      <td>06/27/2019</td>\n",
       "      <td>374</td>\n",
       "      <td>30</td>\n",
       "      <td>11.04</td>\n",
       "      <td>488.000</td>\n",
       "      <td>440.000</td>\n",
       "    </tr>\n",
       "    <tr>\n",
       "      <th>583</th>\n",
       "      <td>06/04/2019</td>\n",
       "      <td>376</td>\n",
       "      <td>10</td>\n",
       "      <td>5.68</td>\n",
       "      <td>1.409</td>\n",
       "      <td>1.320</td>\n",
       "    </tr>\n",
       "    <tr>\n",
       "      <th>584</th>\n",
       "      <td>05/28/2019</td>\n",
       "      <td>376</td>\n",
       "      <td>20</td>\n",
       "      <td>5.96</td>\n",
       "      <td>2.215</td>\n",
       "      <td>2.080</td>\n",
       "    </tr>\n",
       "    <tr>\n",
       "      <th>585</th>\n",
       "      <td>05/28/2019</td>\n",
       "      <td>376</td>\n",
       "      <td>30</td>\n",
       "      <td>4.76</td>\n",
       "      <td>4.876</td>\n",
       "      <td>4.580</td>\n",
       "    </tr>\n",
       "  </tbody>\n",
       "</table>\n",
       "<p>586 rows × 6 columns</p>\n",
       "</div>"
      ],
      "text/plain": [
       "           Date  HIGHWAY  SECTION  SECTION LENGTH      ADT     AADT\n",
       "0    09/09/2019        1       47            4.50    2.566    2.430\n",
       "1    06/17/2019        1       50            7.60    4.266    3.840\n",
       "2    06/17/2019        1       50            7.60    3.934    3.545\n",
       "3    06/17/2019        1       50            7.60    2.924    2.640\n",
       "4    09/09/2019        1       50            7.60    6.164    5.520\n",
       "..          ...      ...      ...             ...      ...      ...\n",
       "581  06/27/2019      374       28            6.83  241.000  220.000\n",
       "582  06/27/2019      374       30           11.04  488.000  440.000\n",
       "583  06/04/2019      376       10            5.68    1.409    1.320\n",
       "584  05/28/2019      376       20            5.96    2.215    2.080\n",
       "585  05/28/2019      376       30            4.76    4.876    4.580\n",
       "\n",
       "[586 rows x 6 columns]"
      ]
     },
     "execution_count": 2,
     "metadata": {},
     "output_type": "execute_result"
    }
   ],
   "source": [
    "TraffData = pd.read_csv(\"cleaned_traffic_data.csv\",sep=',',parse_dates=['Date'])\n",
    "TraffData['Date'] = TraffData['Date'].dt.strftime('%m/%d/%Y')\n",
    "TraffData"
   ]
  },
  {
   "cell_type": "code",
   "execution_count": 3,
   "id": "cb9bd917",
   "metadata": {},
   "outputs": [
    {
     "data": {
      "text/html": [
       "<div>\n",
       "<style scoped>\n",
       "    .dataframe tbody tr th:only-of-type {\n",
       "        vertical-align: middle;\n",
       "    }\n",
       "\n",
       "    .dataframe tbody tr th {\n",
       "        vertical-align: top;\n",
       "    }\n",
       "\n",
       "    .dataframe thead th {\n",
       "        text-align: right;\n",
       "    }\n",
       "</style>\n",
       "<table border=\"1\" class=\"dataframe\">\n",
       "  <thead>\n",
       "    <tr style=\"text-align: right;\">\n",
       "      <th></th>\n",
       "      <th>Date &amp; Time</th>\n",
       "      <th>Pollutant</th>\n",
       "      <th>Unit</th>\n",
       "      <th>Station</th>\n",
       "      <th>Average</th>\n",
       "    </tr>\n",
       "  </thead>\n",
       "  <tbody>\n",
       "    <tr>\n",
       "      <th>0</th>\n",
       "      <td>01/01/2019 12:00:00 AM</td>\n",
       "      <td>CO</td>\n",
       "      <td>ppm</td>\n",
       "      <td>Halifax Johnston</td>\n",
       "      <td>0.25</td>\n",
       "    </tr>\n",
       "    <tr>\n",
       "      <th>1</th>\n",
       "      <td>01/01/2019 01:00:00 AM</td>\n",
       "      <td>CO</td>\n",
       "      <td>ppm</td>\n",
       "      <td>Halifax Johnston</td>\n",
       "      <td>0.26</td>\n",
       "    </tr>\n",
       "    <tr>\n",
       "      <th>2</th>\n",
       "      <td>01/01/2019 02:00:00 AM</td>\n",
       "      <td>CO</td>\n",
       "      <td>ppm</td>\n",
       "      <td>Halifax Johnston</td>\n",
       "      <td>0.20</td>\n",
       "    </tr>\n",
       "    <tr>\n",
       "      <th>3</th>\n",
       "      <td>01/01/2019 03:00:00 AM</td>\n",
       "      <td>CO</td>\n",
       "      <td>ppm</td>\n",
       "      <td>Halifax Johnston</td>\n",
       "      <td>0.17</td>\n",
       "    </tr>\n",
       "    <tr>\n",
       "      <th>4</th>\n",
       "      <td>01/01/2019 04:00:00 AM</td>\n",
       "      <td>CO</td>\n",
       "      <td>ppm</td>\n",
       "      <td>Halifax Johnston</td>\n",
       "      <td>0.15</td>\n",
       "    </tr>\n",
       "  </tbody>\n",
       "</table>\n",
       "</div>"
      ],
      "text/plain": [
       "              Date & Time Pollutant Unit           Station  Average\n",
       "0  01/01/2019 12:00:00 AM        CO  ppm  Halifax Johnston     0.25\n",
       "1  01/01/2019 01:00:00 AM        CO  ppm  Halifax Johnston     0.26\n",
       "2  01/01/2019 02:00:00 AM        CO  ppm  Halifax Johnston     0.20\n",
       "3  01/01/2019 03:00:00 AM        CO  ppm  Halifax Johnston     0.17\n",
       "4  01/01/2019 04:00:00 AM        CO  ppm  Halifax Johnston     0.15"
      ]
     },
     "execution_count": 3,
     "metadata": {},
     "output_type": "execute_result"
    }
   ],
   "source": [
    "AllCOData = pd.read_csv(\"Nova_Scotia_Provincial_Ambient_Carbon_Monoxide__CO__Hourly_Data_Halifax_Johnston.csv\", sep =',')\n",
    "AllCOData.head()"
   ]
  },
  {
   "cell_type": "code",
   "execution_count": 4,
   "id": "b8c52c65",
   "metadata": {},
   "outputs": [
    {
     "name": "stderr",
     "output_type": "stream",
     "text": [
      "C:\\Users\\Mayank\\AppData\\Local\\Programs\\Python\\Python38\\lib\\site-packages\\pandas\\core\\frame.py:5039: SettingWithCopyWarning: \n",
      "A value is trying to be set on a copy of a slice from a DataFrame\n",
      "\n",
      "See the caveats in the documentation: https://pandas.pydata.org/pandas-docs/stable/user_guide/indexing.html#returning-a-view-versus-a-copy\n",
      "  return super().rename(\n",
      "C:\\Users\\Mayank\\AppData\\Local\\Programs\\Python\\Python38\\lib\\site-packages\\pandas\\core\\frame.py:3641: SettingWithCopyWarning: \n",
      "A value is trying to be set on a copy of a slice from a DataFrame.\n",
      "Try using .loc[row_indexer,col_indexer] = value instead\n",
      "\n",
      "See the caveats in the documentation: https://pandas.pydata.org/pandas-docs/stable/user_guide/indexing.html#returning-a-view-versus-a-copy\n",
      "  self[k1] = value[k2]\n"
     ]
    },
    {
     "data": {
      "text/html": [
       "<div>\n",
       "<style scoped>\n",
       "    .dataframe tbody tr th:only-of-type {\n",
       "        vertical-align: middle;\n",
       "    }\n",
       "\n",
       "    .dataframe tbody tr th {\n",
       "        vertical-align: top;\n",
       "    }\n",
       "\n",
       "    .dataframe thead th {\n",
       "        text-align: right;\n",
       "    }\n",
       "</style>\n",
       "<table border=\"1\" class=\"dataframe\">\n",
       "  <thead>\n",
       "    <tr style=\"text-align: right;\">\n",
       "      <th></th>\n",
       "      <th>Average</th>\n",
       "    </tr>\n",
       "    <tr>\n",
       "      <th>Date</th>\n",
       "      <th></th>\n",
       "    </tr>\n",
       "  </thead>\n",
       "  <tbody>\n",
       "    <tr>\n",
       "      <th>01/01/2019</th>\n",
       "      <td>0.146250</td>\n",
       "    </tr>\n",
       "    <tr>\n",
       "      <th>01/02/2019</th>\n",
       "      <td>0.152917</td>\n",
       "    </tr>\n",
       "    <tr>\n",
       "      <th>01/03/2019</th>\n",
       "      <td>0.198333</td>\n",
       "    </tr>\n",
       "    <tr>\n",
       "      <th>01/04/2019</th>\n",
       "      <td>0.178333</td>\n",
       "    </tr>\n",
       "    <tr>\n",
       "      <th>01/05/2019</th>\n",
       "      <td>0.197083</td>\n",
       "    </tr>\n",
       "    <tr>\n",
       "      <th>...</th>\n",
       "      <td>...</td>\n",
       "    </tr>\n",
       "    <tr>\n",
       "      <th>12/27/2019</th>\n",
       "      <td>0.127083</td>\n",
       "    </tr>\n",
       "    <tr>\n",
       "      <th>12/28/2019</th>\n",
       "      <td>0.116250</td>\n",
       "    </tr>\n",
       "    <tr>\n",
       "      <th>12/29/2019</th>\n",
       "      <td>0.106667</td>\n",
       "    </tr>\n",
       "    <tr>\n",
       "      <th>12/30/2019</th>\n",
       "      <td>0.096667</td>\n",
       "    </tr>\n",
       "    <tr>\n",
       "      <th>12/31/2019</th>\n",
       "      <td>0.071250</td>\n",
       "    </tr>\n",
       "  </tbody>\n",
       "</table>\n",
       "<p>365 rows × 1 columns</p>\n",
       "</div>"
      ],
      "text/plain": [
       "             Average\n",
       "Date                \n",
       "01/01/2019  0.146250\n",
       "01/02/2019  0.152917\n",
       "01/03/2019  0.198333\n",
       "01/04/2019  0.178333\n",
       "01/05/2019  0.197083\n",
       "...              ...\n",
       "12/27/2019  0.127083\n",
       "12/28/2019  0.116250\n",
       "12/29/2019  0.106667\n",
       "12/30/2019  0.096667\n",
       "12/31/2019  0.071250\n",
       "\n",
       "[365 rows x 1 columns]"
      ]
     },
     "execution_count": 4,
     "metadata": {},
     "output_type": "execute_result"
    }
   ],
   "source": [
    "COData = AllCOData[['Date & Time','Average']]\n",
    "COData.rename(columns=({'Date & Time':'Date'}),inplace=True,)\n",
    "COData[['Date','Time','AP']] =  COData.Date.str.split(\" \", expand = True)\n",
    "COData = COData[['Date','Average']] \n",
    "COData = COData[COData['Date'].str.contains('[\\d/]2019')]\n",
    "COData = COData.groupby('Date').mean()\n",
    "COData\n"
   ]
  },
  {
   "cell_type": "code",
   "execution_count": 5,
   "id": "158d1ded",
   "metadata": {},
   "outputs": [
    {
     "data": {
      "text/html": [
       "<div>\n",
       "<style scoped>\n",
       "    .dataframe tbody tr th:only-of-type {\n",
       "        vertical-align: middle;\n",
       "    }\n",
       "\n",
       "    .dataframe tbody tr th {\n",
       "        vertical-align: top;\n",
       "    }\n",
       "\n",
       "    .dataframe thead th {\n",
       "        text-align: right;\n",
       "    }\n",
       "</style>\n",
       "<table border=\"1\" class=\"dataframe\">\n",
       "  <thead>\n",
       "    <tr style=\"text-align: right;\">\n",
       "      <th></th>\n",
       "      <th>Date</th>\n",
       "      <th>HIGHWAY</th>\n",
       "      <th>SECTION</th>\n",
       "      <th>SECTION LENGTH</th>\n",
       "      <th>ADT</th>\n",
       "      <th>AADT</th>\n",
       "      <th>Average</th>\n",
       "    </tr>\n",
       "  </thead>\n",
       "  <tbody>\n",
       "    <tr>\n",
       "      <th>0</th>\n",
       "      <td>09/09/2019</td>\n",
       "      <td>1</td>\n",
       "      <td>47</td>\n",
       "      <td>4.50</td>\n",
       "      <td>2.566</td>\n",
       "      <td>2.430</td>\n",
       "      <td>0.122174</td>\n",
       "    </tr>\n",
       "    <tr>\n",
       "      <th>1</th>\n",
       "      <td>06/17/2019</td>\n",
       "      <td>1</td>\n",
       "      <td>50</td>\n",
       "      <td>7.60</td>\n",
       "      <td>4.266</td>\n",
       "      <td>3.840</td>\n",
       "      <td>0.144167</td>\n",
       "    </tr>\n",
       "    <tr>\n",
       "      <th>2</th>\n",
       "      <td>06/17/2019</td>\n",
       "      <td>1</td>\n",
       "      <td>50</td>\n",
       "      <td>7.60</td>\n",
       "      <td>3.934</td>\n",
       "      <td>3.545</td>\n",
       "      <td>0.144167</td>\n",
       "    </tr>\n",
       "    <tr>\n",
       "      <th>3</th>\n",
       "      <td>06/17/2019</td>\n",
       "      <td>1</td>\n",
       "      <td>50</td>\n",
       "      <td>7.60</td>\n",
       "      <td>2.924</td>\n",
       "      <td>2.640</td>\n",
       "      <td>0.144167</td>\n",
       "    </tr>\n",
       "    <tr>\n",
       "      <th>4</th>\n",
       "      <td>09/09/2019</td>\n",
       "      <td>1</td>\n",
       "      <td>50</td>\n",
       "      <td>7.60</td>\n",
       "      <td>6.164</td>\n",
       "      <td>5.520</td>\n",
       "      <td>0.122174</td>\n",
       "    </tr>\n",
       "    <tr>\n",
       "      <th>...</th>\n",
       "      <td>...</td>\n",
       "      <td>...</td>\n",
       "      <td>...</td>\n",
       "      <td>...</td>\n",
       "      <td>...</td>\n",
       "      <td>...</td>\n",
       "      <td>...</td>\n",
       "    </tr>\n",
       "    <tr>\n",
       "      <th>581</th>\n",
       "      <td>06/27/2019</td>\n",
       "      <td>374</td>\n",
       "      <td>28</td>\n",
       "      <td>6.83</td>\n",
       "      <td>241.000</td>\n",
       "      <td>220.000</td>\n",
       "      <td>0.073913</td>\n",
       "    </tr>\n",
       "    <tr>\n",
       "      <th>582</th>\n",
       "      <td>06/27/2019</td>\n",
       "      <td>374</td>\n",
       "      <td>30</td>\n",
       "      <td>11.04</td>\n",
       "      <td>488.000</td>\n",
       "      <td>440.000</td>\n",
       "      <td>0.073913</td>\n",
       "    </tr>\n",
       "    <tr>\n",
       "      <th>583</th>\n",
       "      <td>06/04/2019</td>\n",
       "      <td>376</td>\n",
       "      <td>10</td>\n",
       "      <td>5.68</td>\n",
       "      <td>1.409</td>\n",
       "      <td>1.320</td>\n",
       "      <td>0.122083</td>\n",
       "    </tr>\n",
       "    <tr>\n",
       "      <th>584</th>\n",
       "      <td>05/28/2019</td>\n",
       "      <td>376</td>\n",
       "      <td>20</td>\n",
       "      <td>5.96</td>\n",
       "      <td>2.215</td>\n",
       "      <td>2.080</td>\n",
       "      <td>0.097391</td>\n",
       "    </tr>\n",
       "    <tr>\n",
       "      <th>585</th>\n",
       "      <td>05/28/2019</td>\n",
       "      <td>376</td>\n",
       "      <td>30</td>\n",
       "      <td>4.76</td>\n",
       "      <td>4.876</td>\n",
       "      <td>4.580</td>\n",
       "      <td>0.097391</td>\n",
       "    </tr>\n",
       "  </tbody>\n",
       "</table>\n",
       "<p>586 rows × 7 columns</p>\n",
       "</div>"
      ],
      "text/plain": [
       "           Date  HIGHWAY  SECTION  SECTION LENGTH      ADT     AADT   Average\n",
       "0    09/09/2019        1       47            4.50    2.566    2.430  0.122174\n",
       "1    06/17/2019        1       50            7.60    4.266    3.840  0.144167\n",
       "2    06/17/2019        1       50            7.60    3.934    3.545  0.144167\n",
       "3    06/17/2019        1       50            7.60    2.924    2.640  0.144167\n",
       "4    09/09/2019        1       50            7.60    6.164    5.520  0.122174\n",
       "..          ...      ...      ...             ...      ...      ...       ...\n",
       "581  06/27/2019      374       28            6.83  241.000  220.000  0.073913\n",
       "582  06/27/2019      374       30           11.04  488.000  440.000  0.073913\n",
       "583  06/04/2019      376       10            5.68    1.409    1.320  0.122083\n",
       "584  05/28/2019      376       20            5.96    2.215    2.080  0.097391\n",
       "585  05/28/2019      376       30            4.76    4.876    4.580  0.097391\n",
       "\n",
       "[586 rows x 7 columns]"
      ]
     },
     "execution_count": 5,
     "metadata": {},
     "output_type": "execute_result"
    }
   ],
   "source": [
    "MergedData = pd.merge(TraffData,COData,on='Date',how='left')\n",
    "MergedData"
   ]
  },
  {
   "cell_type": "code",
   "execution_count": 6,
   "id": "582c832e",
   "metadata": {
    "scrolled": false
   },
   "outputs": [
    {
     "name": "stdout",
     "output_type": "stream",
     "text": [
      "['Average', 'ADT', 'AADT']\n"
     ]
    },
    {
     "data": {
      "text/html": [
       "<div>\n",
       "<style scoped>\n",
       "    .dataframe tbody tr th:only-of-type {\n",
       "        vertical-align: middle;\n",
       "    }\n",
       "\n",
       "    .dataframe tbody tr th {\n",
       "        vertical-align: top;\n",
       "    }\n",
       "\n",
       "    .dataframe thead th {\n",
       "        text-align: right;\n",
       "    }\n",
       "</style>\n",
       "<table border=\"1\" class=\"dataframe\">\n",
       "  <thead>\n",
       "    <tr style=\"text-align: right;\">\n",
       "      <th></th>\n",
       "      <th>Date</th>\n",
       "      <th>HIGHWAY</th>\n",
       "      <th>SECTION</th>\n",
       "      <th>SECTION LENGTH</th>\n",
       "      <th>ADT</th>\n",
       "      <th>AADT</th>\n",
       "      <th>Average</th>\n",
       "    </tr>\n",
       "  </thead>\n",
       "  <tbody>\n",
       "    <tr>\n",
       "      <th>0</th>\n",
       "      <td>09/09/2019</td>\n",
       "      <td>1</td>\n",
       "      <td>47</td>\n",
       "      <td>4.50</td>\n",
       "      <td>0.001571</td>\n",
       "      <td>0.001446</td>\n",
       "      <td>0.542614</td>\n",
       "    </tr>\n",
       "    <tr>\n",
       "      <th>1</th>\n",
       "      <td>06/17/2019</td>\n",
       "      <td>1</td>\n",
       "      <td>50</td>\n",
       "      <td>7.60</td>\n",
       "      <td>0.003282</td>\n",
       "      <td>0.002872</td>\n",
       "      <td>0.698085</td>\n",
       "    </tr>\n",
       "    <tr>\n",
       "      <th>2</th>\n",
       "      <td>06/17/2019</td>\n",
       "      <td>1</td>\n",
       "      <td>50</td>\n",
       "      <td>7.60</td>\n",
       "      <td>0.002948</td>\n",
       "      <td>0.002573</td>\n",
       "      <td>0.698085</td>\n",
       "    </tr>\n",
       "    <tr>\n",
       "      <th>3</th>\n",
       "      <td>06/17/2019</td>\n",
       "      <td>1</td>\n",
       "      <td>50</td>\n",
       "      <td>7.60</td>\n",
       "      <td>0.001932</td>\n",
       "      <td>0.001658</td>\n",
       "      <td>0.698085</td>\n",
       "    </tr>\n",
       "    <tr>\n",
       "      <th>4</th>\n",
       "      <td>09/09/2019</td>\n",
       "      <td>1</td>\n",
       "      <td>50</td>\n",
       "      <td>7.60</td>\n",
       "      <td>0.005191</td>\n",
       "      <td>0.004570</td>\n",
       "      <td>0.542614</td>\n",
       "    </tr>\n",
       "    <tr>\n",
       "      <th>...</th>\n",
       "      <td>...</td>\n",
       "      <td>...</td>\n",
       "      <td>...</td>\n",
       "      <td>...</td>\n",
       "      <td>...</td>\n",
       "      <td>...</td>\n",
       "      <td>...</td>\n",
       "    </tr>\n",
       "    <tr>\n",
       "      <th>581</th>\n",
       "      <td>06/27/2019</td>\n",
       "      <td>374</td>\n",
       "      <td>28</td>\n",
       "      <td>6.83</td>\n",
       "      <td>0.241446</td>\n",
       "      <td>0.221436</td>\n",
       "      <td>0.201447</td>\n",
       "    </tr>\n",
       "    <tr>\n",
       "      <th>582</th>\n",
       "      <td>06/27/2019</td>\n",
       "      <td>374</td>\n",
       "      <td>30</td>\n",
       "      <td>11.04</td>\n",
       "      <td>0.489938</td>\n",
       "      <td>0.443883</td>\n",
       "      <td>0.201447</td>\n",
       "    </tr>\n",
       "    <tr>\n",
       "      <th>583</th>\n",
       "      <td>06/04/2019</td>\n",
       "      <td>376</td>\n",
       "      <td>10</td>\n",
       "      <td>5.68</td>\n",
       "      <td>0.000407</td>\n",
       "      <td>0.000324</td>\n",
       "      <td>0.541973</td>\n",
       "    </tr>\n",
       "    <tr>\n",
       "      <th>584</th>\n",
       "      <td>05/28/2019</td>\n",
       "      <td>376</td>\n",
       "      <td>20</td>\n",
       "      <td>5.96</td>\n",
       "      <td>0.001218</td>\n",
       "      <td>0.001092</td>\n",
       "      <td>0.367420</td>\n",
       "    </tr>\n",
       "    <tr>\n",
       "      <th>585</th>\n",
       "      <td>05/28/2019</td>\n",
       "      <td>376</td>\n",
       "      <td>30</td>\n",
       "      <td>4.76</td>\n",
       "      <td>0.003895</td>\n",
       "      <td>0.003620</td>\n",
       "      <td>0.367420</td>\n",
       "    </tr>\n",
       "  </tbody>\n",
       "</table>\n",
       "<p>586 rows × 7 columns</p>\n",
       "</div>"
      ],
      "text/plain": [
       "           Date  HIGHWAY  SECTION  SECTION LENGTH       ADT      AADT  \\\n",
       "0    09/09/2019        1       47            4.50  0.001571  0.001446   \n",
       "1    06/17/2019        1       50            7.60  0.003282  0.002872   \n",
       "2    06/17/2019        1       50            7.60  0.002948  0.002573   \n",
       "3    06/17/2019        1       50            7.60  0.001932  0.001658   \n",
       "4    09/09/2019        1       50            7.60  0.005191  0.004570   \n",
       "..          ...      ...      ...             ...       ...       ...   \n",
       "581  06/27/2019      374       28            6.83  0.241446  0.221436   \n",
       "582  06/27/2019      374       30           11.04  0.489938  0.443883   \n",
       "583  06/04/2019      376       10            5.68  0.000407  0.000324   \n",
       "584  05/28/2019      376       20            5.96  0.001218  0.001092   \n",
       "585  05/28/2019      376       30            4.76  0.003895  0.003620   \n",
       "\n",
       "      Average  \n",
       "0    0.542614  \n",
       "1    0.698085  \n",
       "2    0.698085  \n",
       "3    0.698085  \n",
       "4    0.542614  \n",
       "..        ...  \n",
       "581  0.201447  \n",
       "582  0.201447  \n",
       "583  0.541973  \n",
       "584  0.367420  \n",
       "585  0.367420  \n",
       "\n",
       "[586 rows x 7 columns]"
      ]
     },
     "execution_count": 6,
     "metadata": {},
     "output_type": "execute_result"
    }
   ],
   "source": [
    "cols_to_norm = ['Average','ADT','AADT']\n",
    "print(cols_to_norm)\n",
    "MergedData[cols_to_norm] = MergedData[cols_to_norm].apply(lambda x: (x - x.min()) / (x.max() - x.min()))\n",
    "MergedData"
   ]
  },
  {
   "cell_type": "code",
   "execution_count": 7,
   "id": "a22411da",
   "metadata": {
    "scrolled": false
   },
   "outputs": [
    {
     "data": {
      "text/html": [
       "<div>\n",
       "<style scoped>\n",
       "    .dataframe tbody tr th:only-of-type {\n",
       "        vertical-align: middle;\n",
       "    }\n",
       "\n",
       "    .dataframe tbody tr th {\n",
       "        vertical-align: top;\n",
       "    }\n",
       "\n",
       "    .dataframe thead th {\n",
       "        text-align: right;\n",
       "    }\n",
       "</style>\n",
       "<table border=\"1\" class=\"dataframe\">\n",
       "  <thead>\n",
       "    <tr style=\"text-align: right;\">\n",
       "      <th></th>\n",
       "      <th>Date</th>\n",
       "      <th>HIGHWAY</th>\n",
       "      <th>SECTION</th>\n",
       "      <th>SECTION LENGTH</th>\n",
       "      <th>ADT</th>\n",
       "      <th>AADT</th>\n",
       "      <th>Average</th>\n",
       "      <th>COIndex</th>\n",
       "    </tr>\n",
       "  </thead>\n",
       "  <tbody>\n",
       "    <tr>\n",
       "      <th>0</th>\n",
       "      <td>09/09/2019</td>\n",
       "      <td>1</td>\n",
       "      <td>47</td>\n",
       "      <td>4.50</td>\n",
       "      <td>0.001571</td>\n",
       "      <td>0.001446</td>\n",
       "      <td>0.542614</td>\n",
       "      <td>High</td>\n",
       "    </tr>\n",
       "    <tr>\n",
       "      <th>1</th>\n",
       "      <td>06/17/2019</td>\n",
       "      <td>1</td>\n",
       "      <td>50</td>\n",
       "      <td>7.60</td>\n",
       "      <td>0.003282</td>\n",
       "      <td>0.002872</td>\n",
       "      <td>0.698085</td>\n",
       "      <td>High</td>\n",
       "    </tr>\n",
       "    <tr>\n",
       "      <th>2</th>\n",
       "      <td>06/17/2019</td>\n",
       "      <td>1</td>\n",
       "      <td>50</td>\n",
       "      <td>7.60</td>\n",
       "      <td>0.002948</td>\n",
       "      <td>0.002573</td>\n",
       "      <td>0.698085</td>\n",
       "      <td>High</td>\n",
       "    </tr>\n",
       "    <tr>\n",
       "      <th>3</th>\n",
       "      <td>06/17/2019</td>\n",
       "      <td>1</td>\n",
       "      <td>50</td>\n",
       "      <td>7.60</td>\n",
       "      <td>0.001932</td>\n",
       "      <td>0.001658</td>\n",
       "      <td>0.698085</td>\n",
       "      <td>High</td>\n",
       "    </tr>\n",
       "    <tr>\n",
       "      <th>4</th>\n",
       "      <td>09/09/2019</td>\n",
       "      <td>1</td>\n",
       "      <td>50</td>\n",
       "      <td>7.60</td>\n",
       "      <td>0.005191</td>\n",
       "      <td>0.004570</td>\n",
       "      <td>0.542614</td>\n",
       "      <td>High</td>\n",
       "    </tr>\n",
       "    <tr>\n",
       "      <th>...</th>\n",
       "      <td>...</td>\n",
       "      <td>...</td>\n",
       "      <td>...</td>\n",
       "      <td>...</td>\n",
       "      <td>...</td>\n",
       "      <td>...</td>\n",
       "      <td>...</td>\n",
       "      <td>...</td>\n",
       "    </tr>\n",
       "    <tr>\n",
       "      <th>581</th>\n",
       "      <td>06/27/2019</td>\n",
       "      <td>374</td>\n",
       "      <td>28</td>\n",
       "      <td>6.83</td>\n",
       "      <td>0.241446</td>\n",
       "      <td>0.221436</td>\n",
       "      <td>0.201447</td>\n",
       "      <td>Low</td>\n",
       "    </tr>\n",
       "    <tr>\n",
       "      <th>582</th>\n",
       "      <td>06/27/2019</td>\n",
       "      <td>374</td>\n",
       "      <td>30</td>\n",
       "      <td>11.04</td>\n",
       "      <td>0.489938</td>\n",
       "      <td>0.443883</td>\n",
       "      <td>0.201447</td>\n",
       "      <td>Low</td>\n",
       "    </tr>\n",
       "    <tr>\n",
       "      <th>583</th>\n",
       "      <td>06/04/2019</td>\n",
       "      <td>376</td>\n",
       "      <td>10</td>\n",
       "      <td>5.68</td>\n",
       "      <td>0.000407</td>\n",
       "      <td>0.000324</td>\n",
       "      <td>0.541973</td>\n",
       "      <td>High</td>\n",
       "    </tr>\n",
       "    <tr>\n",
       "      <th>584</th>\n",
       "      <td>05/28/2019</td>\n",
       "      <td>376</td>\n",
       "      <td>20</td>\n",
       "      <td>5.96</td>\n",
       "      <td>0.001218</td>\n",
       "      <td>0.001092</td>\n",
       "      <td>0.367420</td>\n",
       "      <td>Low</td>\n",
       "    </tr>\n",
       "    <tr>\n",
       "      <th>585</th>\n",
       "      <td>05/28/2019</td>\n",
       "      <td>376</td>\n",
       "      <td>30</td>\n",
       "      <td>4.76</td>\n",
       "      <td>0.003895</td>\n",
       "      <td>0.003620</td>\n",
       "      <td>0.367420</td>\n",
       "      <td>Low</td>\n",
       "    </tr>\n",
       "  </tbody>\n",
       "</table>\n",
       "<p>586 rows × 8 columns</p>\n",
       "</div>"
      ],
      "text/plain": [
       "           Date  HIGHWAY  SECTION  SECTION LENGTH       ADT      AADT  \\\n",
       "0    09/09/2019        1       47            4.50  0.001571  0.001446   \n",
       "1    06/17/2019        1       50            7.60  0.003282  0.002872   \n",
       "2    06/17/2019        1       50            7.60  0.002948  0.002573   \n",
       "3    06/17/2019        1       50            7.60  0.001932  0.001658   \n",
       "4    09/09/2019        1       50            7.60  0.005191  0.004570   \n",
       "..          ...      ...      ...             ...       ...       ...   \n",
       "581  06/27/2019      374       28            6.83  0.241446  0.221436   \n",
       "582  06/27/2019      374       30           11.04  0.489938  0.443883   \n",
       "583  06/04/2019      376       10            5.68  0.000407  0.000324   \n",
       "584  05/28/2019      376       20            5.96  0.001218  0.001092   \n",
       "585  05/28/2019      376       30            4.76  0.003895  0.003620   \n",
       "\n",
       "      Average COIndex  \n",
       "0    0.542614    High  \n",
       "1    0.698085    High  \n",
       "2    0.698085    High  \n",
       "3    0.698085    High  \n",
       "4    0.542614    High  \n",
       "..        ...     ...  \n",
       "581  0.201447     Low  \n",
       "582  0.201447     Low  \n",
       "583  0.541973    High  \n",
       "584  0.367420     Low  \n",
       "585  0.367420     Low  \n",
       "\n",
       "[586 rows x 8 columns]"
      ]
     },
     "execution_count": 7,
     "metadata": {},
     "output_type": "execute_result"
    }
   ],
   "source": [
    "MergedData['COIndex'] = np.where(MergedData['Average']<0.5,'Low','High')\n",
    "MergedData"
   ]
  },
  {
   "cell_type": "markdown",
   "id": "f9369f02",
   "metadata": {},
   "source": [
    "**Below shows Normal-Distribution of column Average after normalization**"
   ]
  },
  {
   "cell_type": "code",
   "execution_count": 8,
   "id": "c65a2bda",
   "metadata": {
    "scrolled": true
   },
   "outputs": [
    {
     "data": {
      "text/plain": [
       "<AxesSubplot:ylabel='Density'>"
      ]
     },
     "execution_count": 8,
     "metadata": {},
     "output_type": "execute_result"
    },
    {
     "data": {
      "image/png": "[encoded data removed]",
      "text/plain": [
       "<Figure size 432x288 with 1 Axes>"
      ]
     },
     "metadata": {
      "needs_background": "light"
     },
     "output_type": "display_data"
    }
   ],
   "source": [
    "MergedData['Average'].plot.kde()"
   ]
  },
  {
   "cell_type": "markdown",
   "id": "bc01a2f4",
   "metadata": {},
   "source": [
    "**Below shows data visulaization monthly and plot for Average, ADT, AADT**"
   ]
  },
  {
   "cell_type": "code",
   "execution_count": 9,
   "id": "b096d5e5",
   "metadata": {
    "scrolled": true
   },
   "outputs": [
    {
     "name": "stdout",
     "output_type": "stream",
     "text": [
      "['Average', 'ADT', 'AADT']\n"
     ]
    },
    {
     "data": {
      "text/html": [
       "<div>\n",
       "<style scoped>\n",
       "    .dataframe tbody tr th:only-of-type {\n",
       "        vertical-align: middle;\n",
       "    }\n",
       "\n",
       "    .dataframe tbody tr th {\n",
       "        vertical-align: top;\n",
       "    }\n",
       "\n",
       "    .dataframe thead th {\n",
       "        text-align: right;\n",
       "    }\n",
       "</style>\n",
       "<table border=\"1\" class=\"dataframe\">\n",
       "  <thead>\n",
       "    <tr style=\"text-align: right;\">\n",
       "      <th></th>\n",
       "      <th>HIGHWAY</th>\n",
       "      <th>SECTION</th>\n",
       "      <th>SECTION LENGTH</th>\n",
       "      <th>ADT</th>\n",
       "      <th>AADT</th>\n",
       "      <th>Average</th>\n",
       "    </tr>\n",
       "    <tr>\n",
       "      <th>Month</th>\n",
       "      <th></th>\n",
       "      <th></th>\n",
       "      <th></th>\n",
       "      <th></th>\n",
       "      <th></th>\n",
       "      <th></th>\n",
       "    </tr>\n",
       "  </thead>\n",
       "  <tbody>\n",
       "    <tr>\n",
       "      <th>4</th>\n",
       "      <td>213.900000</td>\n",
       "      <td>36.100000</td>\n",
       "      <td>5.921000</td>\n",
       "      <td>0.601755</td>\n",
       "      <td>0.488117</td>\n",
       "      <td>0.689652</td>\n",
       "    </tr>\n",
       "    <tr>\n",
       "      <th>5</th>\n",
       "      <td>120.608108</td>\n",
       "      <td>66.918919</td>\n",
       "      <td>7.076723</td>\n",
       "      <td>0.618436</td>\n",
       "      <td>0.503683</td>\n",
       "      <td>0.529338</td>\n",
       "    </tr>\n",
       "    <tr>\n",
       "      <th>6</th>\n",
       "      <td>141.291667</td>\n",
       "      <td>56.937500</td>\n",
       "      <td>8.790854</td>\n",
       "      <td>1.000000</td>\n",
       "      <td>0.750396</td>\n",
       "      <td>0.291653</td>\n",
       "    </tr>\n",
       "    <tr>\n",
       "      <th>7</th>\n",
       "      <td>190.831858</td>\n",
       "      <td>32.734513</td>\n",
       "      <td>8.732389</td>\n",
       "      <td>0.996919</td>\n",
       "      <td>1.000000</td>\n",
       "      <td>0.668474</td>\n",
       "    </tr>\n",
       "    <tr>\n",
       "      <th>8</th>\n",
       "      <td>189.225352</td>\n",
       "      <td>49.070423</td>\n",
       "      <td>8.116507</td>\n",
       "      <td>0.705706</td>\n",
       "      <td>0.703298</td>\n",
       "      <td>0.728707</td>\n",
       "    </tr>\n",
       "    <tr>\n",
       "      <th>9</th>\n",
       "      <td>99.615385</td>\n",
       "      <td>70.169231</td>\n",
       "      <td>6.644262</td>\n",
       "      <td>0.260777</td>\n",
       "      <td>0.317203</td>\n",
       "      <td>0.436449</td>\n",
       "    </tr>\n",
       "    <tr>\n",
       "      <th>10</th>\n",
       "      <td>142.204082</td>\n",
       "      <td>29.306122</td>\n",
       "      <td>4.890633</td>\n",
       "      <td>0.071712</td>\n",
       "      <td>0.049255</td>\n",
       "      <td>0.000000</td>\n",
       "    </tr>\n",
       "    <tr>\n",
       "      <th>11</th>\n",
       "      <td>141.250000</td>\n",
       "      <td>90.166667</td>\n",
       "      <td>4.101750</td>\n",
       "      <td>0.000000</td>\n",
       "      <td>0.000000</td>\n",
       "      <td>0.555140</td>\n",
       "    </tr>\n",
       "    <tr>\n",
       "      <th>12</th>\n",
       "      <td>103.083333</td>\n",
       "      <td>47.916667</td>\n",
       "      <td>3.670000</td>\n",
       "      <td>0.019251</td>\n",
       "      <td>0.016470</td>\n",
       "      <td>1.000000</td>\n",
       "    </tr>\n",
       "  </tbody>\n",
       "</table>\n",
       "</div>"
      ],
      "text/plain": [
       "          HIGHWAY    SECTION  SECTION LENGTH       ADT      AADT   Average\n",
       "Month                                                                     \n",
       "4      213.900000  36.100000        5.921000  0.601755  0.488117  0.689652\n",
       "5      120.608108  66.918919        7.076723  0.618436  0.503683  0.529338\n",
       "6      141.291667  56.937500        8.790854  1.000000  0.750396  0.291653\n",
       "7      190.831858  32.734513        8.732389  0.996919  1.000000  0.668474\n",
       "8      189.225352  49.070423        8.116507  0.705706  0.703298  0.728707\n",
       "9       99.615385  70.169231        6.644262  0.260777  0.317203  0.436449\n",
       "10     142.204082  29.306122        4.890633  0.071712  0.049255  0.000000\n",
       "11     141.250000  90.166667        4.101750  0.000000  0.000000  0.555140\n",
       "12     103.083333  47.916667        3.670000  0.019251  0.016470  1.000000"
      ]
     },
     "execution_count": 9,
     "metadata": {},
     "output_type": "execute_result"
    }
   ],
   "source": [
    "MonthlyMergedData = MergedData\n",
    "MonthlyMergedData['Month']= pd.DatetimeIndex(MergedData['Date']).month\n",
    "MonthlyMergedData = MonthlyMergedData.groupby('Month').mean()\n",
    "cols_to_norm = ['Average','ADT','AADT']\n",
    "print(cols_to_norm)\n",
    "MonthlyMergedData[cols_to_norm] = MonthlyMergedData[cols_to_norm].apply(lambda x: (x - x.min()) / (x.max() - x.min()))\n",
    "MonthlyMergedData\n"
   ]
  },
  {
   "cell_type": "code",
   "execution_count": 10,
   "id": "8f016c01",
   "metadata": {},
   "outputs": [
    {
     "data": {
      "text/plain": [
       "<AxesSubplot:xlabel='Month'>"
      ]
     },
     "execution_count": 10,
     "metadata": {},
     "output_type": "execute_result"
    },
    {
     "data": {
      "image/png": "[encoded data removed]",
      "text/plain": [
       "<Figure size 432x288 with 1 Axes>"
      ]
     },
     "metadata": {
      "needs_background": "light"
     },
     "output_type": "display_data"
    }
   ],
   "source": [
    "MonthlyMergedData[['Average','ADT','AADT']].plot()"
   ]
  },
  {
   "cell_type": "markdown",
   "id": "fd8ed750",
   "metadata": {},
   "source": [
    "**Average distribution is symmetric with few outlier**"
   ]
  },
  {
   "cell_type": "code",
   "execution_count": 11,
   "id": "9a22bed2",
   "metadata": {
    "scrolled": false
   },
   "outputs": [
    {
     "data": {
      "text/plain": [
       "<AxesSubplot:>"
      ]
     },
     "execution_count": 11,
     "metadata": {},
     "output_type": "execute_result"
    },
    {
     "data": {
      "image/png": "[encoded data removed]",
      "text/plain": [
       "<Figure size 432x288 with 1 Axes>"
      ]
     },
     "metadata": {
      "needs_background": "light"
     },
     "output_type": "display_data"
    }
   ],
   "source": [
    "MergedData.boxplot(column=['Average'])"
   ]
  },
  {
   "cell_type": "markdown",
   "id": "6c819fea",
   "metadata": {},
   "source": [
    "**ADT distribution is positively skewed with few outliers**"
   ]
  },
  {
   "cell_type": "code",
   "execution_count": 12,
   "id": "d0c26b96",
   "metadata": {
    "scrolled": true
   },
   "outputs": [
    {
     "data": {
      "text/plain": [
       "<AxesSubplot:>"
      ]
     },
     "execution_count": 12,
     "metadata": {},
     "output_type": "execute_result"
    },
    {
     "data": {
      "image/png": "[encoded data removed]",
      "text/plain": [
       "<Figure size 432x288 with 1 Axes>"
      ]
     },
     "metadata": {
      "needs_background": "light"
     },
     "output_type": "display_data"
    }
   ],
   "source": [
    "MergedData.boxplot(column=['ADT'])"
   ]
  },
  {
   "cell_type": "markdown",
   "id": "e67c8d7a",
   "metadata": {},
   "source": [
    "**AADT distribution is positively skewed**"
   ]
  },
  {
   "cell_type": "code",
   "execution_count": 13,
   "id": "cfa149bd",
   "metadata": {
    "scrolled": true
   },
   "outputs": [
    {
     "data": {
      "text/plain": [
       "<AxesSubplot:>"
      ]
     },
     "execution_count": 13,
     "metadata": {},
     "output_type": "execute_result"
    },
    {
     "data": {
      "image/png": "[encoded data removed]",
      "text/plain": [
       "<Figure size 432x288 with 1 Axes>"
      ]
     },
     "metadata": {
      "needs_background": "light"
     },
     "output_type": "display_data"
    }
   ],
   "source": [
    "MergedData.boxplot(column=['AADT'])"
   ]
  },
  {
   "cell_type": "markdown",
   "id": "ff3a5665",
   "metadata": {},
   "source": [
    "**ADT and Average on compare is non-linear**"
   ]
  },
  {
   "cell_type": "code",
   "execution_count": 14,
   "id": "c9572fcc",
   "metadata": {
    "scrolled": true
   },
   "outputs": [
    {
     "data": {
      "text/plain": [
       "<AxesSubplot:xlabel='ADT', ylabel='Average'>"
      ]
     },
     "execution_count": 14,
     "metadata": {},
     "output_type": "execute_result"
    },
    {
     "data": {
      "image/png": "[encoded data removed]",
      "text/plain": [
       "<Figure size 432x288 with 1 Axes>"
      ]
     },
     "metadata": {
      "needs_background": "light"
     },
     "output_type": "display_data"
    }
   ],
   "source": [
    "MergedData.plot.scatter(x='ADT',\n",
    "                y='Average',\n",
    "                c='Red')"
   ]
  },
  {
   "cell_type": "markdown",
   "id": "f449c536",
   "metadata": {},
   "source": [
    "**AADT and Average on compare is non-linear**"
   ]
  },
  {
   "cell_type": "code",
   "execution_count": 15,
   "id": "0e81a40e",
   "metadata": {
    "scrolled": true
   },
   "outputs": [
    {
     "data": {
      "text/plain": [
       "<AxesSubplot:xlabel='AADT', ylabel='Average'>"
      ]
     },
     "execution_count": 15,
     "metadata": {},
     "output_type": "execute_result"
    },
    {
     "data": {
      "image/png": "[encoded data removed]",
      "text/plain": [
       "<Figure size 432x288 with 1 Axes>"
      ]
     },
     "metadata": {
      "needs_background": "light"
     },
     "output_type": "display_data"
    }
   ],
   "source": [
    "MergedData.plot.scatter(x='AADT',\n",
    "                y='Average',\n",
    "                c='Red')"
   ]
  },
  {
   "cell_type": "markdown",
   "id": "a6cdb7aa",
   "metadata": {},
   "source": [
    "**ADT and AADT on compare is linear, so we will consider only ADT into feature and will remove AADT as both are linear and taking both will not improve our model**"
   ]
  },
  {
   "cell_type": "code",
   "execution_count": 16,
   "id": "ceb2a42b",
   "metadata": {
    "scrolled": true
   },
   "outputs": [
    {
     "data": {
      "text/plain": [
       "<AxesSubplot:xlabel='ADT', ylabel='AADT'>"
      ]
     },
     "execution_count": 16,
     "metadata": {},
     "output_type": "execute_result"
    },
    {
     "data": {
      "image/png": "[encoded data removed]",
      "text/plain": [
       "<Figure size 432x288 with 1 Axes>"
      ]
     },
     "metadata": {
      "needs_background": "light"
     },
     "output_type": "display_data"
    }
   ],
   "source": [
    "MergedData.plot.scatter(x='ADT',\n",
    "                y='AADT',\n",
    "                c='DarkBlue')"
   ]
  },
  {
   "cell_type": "markdown",
   "id": "3024f4c1",
   "metadata": {},
   "source": [
    "**Below is the bar graph for our Target attribute of model i.e. COIndex**"
   ]
  },
  {
   "cell_type": "code",
   "execution_count": 17,
   "id": "e336157c",
   "metadata": {
    "scrolled": true
   },
   "outputs": [
    {
     "data": {
      "text/plain": [
       "<AxesSubplot:>"
      ]
     },
     "execution_count": 17,
     "metadata": {},
     "output_type": "execute_result"
    },
    {
     "data": {
      "image/png": "[encoded data removed]",
      "text/plain": [
       "<Figure size 432x288 with 1 Axes>"
      ]
     },
     "metadata": {
      "needs_background": "light"
     },
     "output_type": "display_data"
    }
   ],
   "source": [
    "MergedData['COIndex'].value_counts().plot(kind='bar')"
   ]
  },
  {
   "cell_type": "code",
   "execution_count": 18,
   "id": "c28ae962",
   "metadata": {},
   "outputs": [],
   "source": [
    "MergedData = MergedData[['HIGHWAY','SECTION','SECTION LENGTH','ADT','COIndex']]"
   ]
  },
  {
   "cell_type": "markdown",
   "id": "401eb251",
   "metadata": {},
   "source": [
    "**Below shows Summary Visualization of Data**"
   ]
  },
  {
   "cell_type": "code",
   "execution_count": 19,
   "id": "9674ae39",
   "metadata": {},
   "outputs": [
    {
     "data": {
      "text/html": [
       "<div>\n",
       "<style scoped>\n",
       "    .dataframe tbody tr th:only-of-type {\n",
       "        vertical-align: middle;\n",
       "    }\n",
       "\n",
       "    .dataframe tbody tr th {\n",
       "        vertical-align: top;\n",
       "    }\n",
       "\n",
       "    .dataframe thead th {\n",
       "        text-align: right;\n",
       "    }\n",
       "</style>\n",
       "<table border=\"1\" class=\"dataframe\">\n",
       "  <thead>\n",
       "    <tr style=\"text-align: right;\">\n",
       "      <th></th>\n",
       "      <th>HIGHWAY</th>\n",
       "      <th>SECTION</th>\n",
       "      <th>SECTION LENGTH</th>\n",
       "      <th>ADT</th>\n",
       "      <th>COIndex</th>\n",
       "    </tr>\n",
       "  </thead>\n",
       "  <tbody>\n",
       "    <tr>\n",
       "      <th>count</th>\n",
       "      <td>586.000000</td>\n",
       "      <td>586.000000</td>\n",
       "      <td>586.000000</td>\n",
       "      <td>586.000000</td>\n",
       "      <td>586</td>\n",
       "    </tr>\n",
       "    <tr>\n",
       "      <th>unique</th>\n",
       "      <td>NaN</td>\n",
       "      <td>NaN</td>\n",
       "      <td>NaN</td>\n",
       "      <td>NaN</td>\n",
       "      <td>2</td>\n",
       "    </tr>\n",
       "    <tr>\n",
       "      <th>top</th>\n",
       "      <td>NaN</td>\n",
       "      <td>NaN</td>\n",
       "      <td>NaN</td>\n",
       "      <td>NaN</td>\n",
       "      <td>Low</td>\n",
       "    </tr>\n",
       "    <tr>\n",
       "      <th>freq</th>\n",
       "      <td>NaN</td>\n",
       "      <td>NaN</td>\n",
       "      <td>NaN</td>\n",
       "      <td>NaN</td>\n",
       "      <td>329</td>\n",
       "    </tr>\n",
       "    <tr>\n",
       "      <th>mean</th>\n",
       "      <td>148.576792</td>\n",
       "      <td>52.779863</td>\n",
       "      <td>7.401891</td>\n",
       "      <td>0.197231</td>\n",
       "      <td>NaN</td>\n",
       "    </tr>\n",
       "    <tr>\n",
       "      <th>std</th>\n",
       "      <td>125.552938</td>\n",
       "      <td>56.718809</td>\n",
       "      <td>3.981491</td>\n",
       "      <td>0.306120</td>\n",
       "      <td>NaN</td>\n",
       "    </tr>\n",
       "    <tr>\n",
       "      <th>min</th>\n",
       "      <td>1.000000</td>\n",
       "      <td>1.000000</td>\n",
       "      <td>0.200000</td>\n",
       "      <td>0.000000</td>\n",
       "      <td>NaN</td>\n",
       "    </tr>\n",
       "    <tr>\n",
       "      <th>25%</th>\n",
       "      <td>7.000000</td>\n",
       "      <td>17.000000</td>\n",
       "      <td>4.150000</td>\n",
       "      <td>0.001846</td>\n",
       "      <td>NaN</td>\n",
       "    </tr>\n",
       "    <tr>\n",
       "      <th>50%</th>\n",
       "      <td>104.000000</td>\n",
       "      <td>30.000000</td>\n",
       "      <td>7.253500</td>\n",
       "      <td>0.007201</td>\n",
       "      <td>NaN</td>\n",
       "    </tr>\n",
       "    <tr>\n",
       "      <th>75%</th>\n",
       "      <td>245.000000</td>\n",
       "      <td>60.000000</td>\n",
       "      <td>10.040000</td>\n",
       "      <td>0.382794</td>\n",
       "      <td>NaN</td>\n",
       "    </tr>\n",
       "    <tr>\n",
       "      <th>max</th>\n",
       "      <td>376.000000</td>\n",
       "      <td>270.000000</td>\n",
       "      <td>20.720000</td>\n",
       "      <td>1.000000</td>\n",
       "      <td>NaN</td>\n",
       "    </tr>\n",
       "  </tbody>\n",
       "</table>\n",
       "</div>"
      ],
      "text/plain": [
       "           HIGHWAY     SECTION  SECTION LENGTH         ADT COIndex\n",
       "count   586.000000  586.000000      586.000000  586.000000     586\n",
       "unique         NaN         NaN             NaN         NaN       2\n",
       "top            NaN         NaN             NaN         NaN     Low\n",
       "freq           NaN         NaN             NaN         NaN     329\n",
       "mean    148.576792   52.779863        7.401891    0.197231     NaN\n",
       "std     125.552938   56.718809        3.981491    0.306120     NaN\n",
       "min       1.000000    1.000000        0.200000    0.000000     NaN\n",
       "25%       7.000000   17.000000        4.150000    0.001846     NaN\n",
       "50%     104.000000   30.000000        7.253500    0.007201     NaN\n",
       "75%     245.000000   60.000000       10.040000    0.382794     NaN\n",
       "max     376.000000  270.000000       20.720000    1.000000     NaN"
      ]
     },
     "execution_count": 19,
     "metadata": {},
     "output_type": "execute_result"
    }
   ],
   "source": [
    "MergedData.describe(include = 'all')"
   ]
  },
  {
   "cell_type": "code",
   "execution_count": 20,
   "id": "59f4f341",
   "metadata": {
    "scrolled": true
   },
   "outputs": [
    {
     "data": {
      "text/plain": [
       "Low     0.561433\n",
       "High    0.438567\n",
       "Name: COIndex, dtype: float64"
      ]
     },
     "execution_count": 20,
     "metadata": {},
     "output_type": "execute_result"
    }
   ],
   "source": [
    "MergedData['COIndex'].value_counts(normalize=True)"
   ]
  },
  {
   "cell_type": "markdown",
   "id": "86eb86f6",
   "metadata": {},
   "source": [
    "**Reason for removing colums from our Final Data**<br><Br>\n",
    "**Date & Time-** removed because our model cannot understand date and time values.<br>\n",
    "**Pollutant-** removed because in data it is unique as shown below.<br>\n",
    "**Unit-** removed because in data it is unique as shown below.<br>\n"
   ]
  },
  {
   "cell_type": "code",
   "execution_count": 21,
   "id": "3baad35d",
   "metadata": {
    "scrolled": false
   },
   "outputs": [
    {
     "data": {
      "text/html": [
       "<div>\n",
       "<style scoped>\n",
       "    .dataframe tbody tr th:only-of-type {\n",
       "        vertical-align: middle;\n",
       "    }\n",
       "\n",
       "    .dataframe tbody tr th {\n",
       "        vertical-align: top;\n",
       "    }\n",
       "\n",
       "    .dataframe thead th {\n",
       "        text-align: right;\n",
       "    }\n",
       "</style>\n",
       "<table border=\"1\" class=\"dataframe\">\n",
       "  <thead>\n",
       "    <tr style=\"text-align: right;\">\n",
       "      <th></th>\n",
       "      <th>Date &amp; Time</th>\n",
       "      <th>Pollutant</th>\n",
       "      <th>Unit</th>\n",
       "      <th>Station</th>\n",
       "      <th>Average</th>\n",
       "    </tr>\n",
       "  </thead>\n",
       "  <tbody>\n",
       "    <tr>\n",
       "      <th>count</th>\n",
       "      <td>236687</td>\n",
       "      <td>236687</td>\n",
       "      <td>236687</td>\n",
       "      <td>236687</td>\n",
       "      <td>205269.000000</td>\n",
       "    </tr>\n",
       "    <tr>\n",
       "      <th>unique</th>\n",
       "      <td>236687</td>\n",
       "      <td>1</td>\n",
       "      <td>1</td>\n",
       "      <td>2</td>\n",
       "      <td>NaN</td>\n",
       "    </tr>\n",
       "    <tr>\n",
       "      <th>top</th>\n",
       "      <td>01/01/2019 12:00:00 AM</td>\n",
       "      <td>CO</td>\n",
       "      <td>ppm</td>\n",
       "      <td>Halifax</td>\n",
       "      <td>NaN</td>\n",
       "    </tr>\n",
       "    <tr>\n",
       "      <th>freq</th>\n",
       "      <td>1</td>\n",
       "      <td>236687</td>\n",
       "      <td>236687</td>\n",
       "      <td>210384</td>\n",
       "      <td>NaN</td>\n",
       "    </tr>\n",
       "    <tr>\n",
       "      <th>mean</th>\n",
       "      <td>NaN</td>\n",
       "      <td>NaN</td>\n",
       "      <td>NaN</td>\n",
       "      <td>NaN</td>\n",
       "      <td>0.358628</td>\n",
       "    </tr>\n",
       "    <tr>\n",
       "      <th>std</th>\n",
       "      <td>NaN</td>\n",
       "      <td>NaN</td>\n",
       "      <td>NaN</td>\n",
       "      <td>NaN</td>\n",
       "      <td>0.322583</td>\n",
       "    </tr>\n",
       "    <tr>\n",
       "      <th>min</th>\n",
       "      <td>NaN</td>\n",
       "      <td>NaN</td>\n",
       "      <td>NaN</td>\n",
       "      <td>NaN</td>\n",
       "      <td>0.000000</td>\n",
       "    </tr>\n",
       "    <tr>\n",
       "      <th>25%</th>\n",
       "      <td>NaN</td>\n",
       "      <td>NaN</td>\n",
       "      <td>NaN</td>\n",
       "      <td>NaN</td>\n",
       "      <td>0.130000</td>\n",
       "    </tr>\n",
       "    <tr>\n",
       "      <th>50%</th>\n",
       "      <td>NaN</td>\n",
       "      <td>NaN</td>\n",
       "      <td>NaN</td>\n",
       "      <td>NaN</td>\n",
       "      <td>0.270000</td>\n",
       "    </tr>\n",
       "    <tr>\n",
       "      <th>75%</th>\n",
       "      <td>NaN</td>\n",
       "      <td>NaN</td>\n",
       "      <td>NaN</td>\n",
       "      <td>NaN</td>\n",
       "      <td>0.500000</td>\n",
       "    </tr>\n",
       "    <tr>\n",
       "      <th>max</th>\n",
       "      <td>NaN</td>\n",
       "      <td>NaN</td>\n",
       "      <td>NaN</td>\n",
       "      <td>NaN</td>\n",
       "      <td>11.020000</td>\n",
       "    </tr>\n",
       "  </tbody>\n",
       "</table>\n",
       "</div>"
      ],
      "text/plain": [
       "                   Date & Time Pollutant    Unit  Station        Average\n",
       "count                   236687    236687  236687   236687  205269.000000\n",
       "unique                  236687         1       1        2            NaN\n",
       "top     01/01/2019 12:00:00 AM        CO     ppm  Halifax            NaN\n",
       "freq                         1    236687  236687   210384            NaN\n",
       "mean                       NaN       NaN     NaN      NaN       0.358628\n",
       "std                        NaN       NaN     NaN      NaN       0.322583\n",
       "min                        NaN       NaN     NaN      NaN       0.000000\n",
       "25%                        NaN       NaN     NaN      NaN       0.130000\n",
       "50%                        NaN       NaN     NaN      NaN       0.270000\n",
       "75%                        NaN       NaN     NaN      NaN       0.500000\n",
       "max                        NaN       NaN     NaN      NaN      11.020000"
      ]
     },
     "execution_count": 21,
     "metadata": {},
     "output_type": "execute_result"
    }
   ],
   "source": [
    "AllCOData.describe(include='all')"
   ]
  },
  {
   "cell_type": "markdown",
   "id": "ac18702b",
   "metadata": {},
   "source": [
    "**We removed station from final data because for year 2019 its unique as shown below**"
   ]
  },
  {
   "cell_type": "code",
   "execution_count": 22,
   "id": "32d7d66b",
   "metadata": {},
   "outputs": [
    {
     "data": {
      "text/plain": [
       "1"
      ]
     },
     "execution_count": 22,
     "metadata": {},
     "output_type": "execute_result"
    }
   ],
   "source": [
    "AllCOData[(AllCOData[\"Date & Time\"]>='01/01/2019 12:00:00 AM' )& (AllCOData[\"Date & Time\"]<'01/01/2020 12:00:00 AM')]['Station'].nunique()"
   ]
  },
  {
   "cell_type": "markdown",
   "id": "c9a0acec",
   "metadata": {},
   "source": [
    "**We removed AADT from the feature list because ADT and ADDT shows linear relationship as shown in below graph so taking both will not improve accuracy of model hence we can drop AADT**<br>\n",
    "\n",
    "please refer scatter plot bewtween ADT and AADT plotted above which shoes both are linear  "
   ]
  },
  {
   "cell_type": "markdown",
   "id": "5e7c542f",
   "metadata": {},
   "source": [
    "**Creating model after splitting data 50% train and 50% test**\n"
   ]
  },
  {
   "cell_type": "code",
   "execution_count": 23,
   "id": "80e8e0ea",
   "metadata": {},
   "outputs": [
    {
     "data": {
      "text/html": [
       "<div>\n",
       "<style scoped>\n",
       "    .dataframe tbody tr th:only-of-type {\n",
       "        vertical-align: middle;\n",
       "    }\n",
       "\n",
       "    .dataframe tbody tr th {\n",
       "        vertical-align: top;\n",
       "    }\n",
       "\n",
       "    .dataframe thead th {\n",
       "        text-align: right;\n",
       "    }\n",
       "</style>\n",
       "<table border=\"1\" class=\"dataframe\">\n",
       "  <thead>\n",
       "    <tr style=\"text-align: right;\">\n",
       "      <th></th>\n",
       "      <th>HIGHWAY</th>\n",
       "      <th>SECTION</th>\n",
       "      <th>SECTION LENGTH</th>\n",
       "      <th>ADT</th>\n",
       "      <th>COIndex</th>\n",
       "    </tr>\n",
       "  </thead>\n",
       "  <tbody>\n",
       "    <tr>\n",
       "      <th>0</th>\n",
       "      <td>1</td>\n",
       "      <td>47</td>\n",
       "      <td>4.50</td>\n",
       "      <td>0.001571</td>\n",
       "      <td>High</td>\n",
       "    </tr>\n",
       "    <tr>\n",
       "      <th>1</th>\n",
       "      <td>1</td>\n",
       "      <td>50</td>\n",
       "      <td>7.60</td>\n",
       "      <td>0.003282</td>\n",
       "      <td>High</td>\n",
       "    </tr>\n",
       "    <tr>\n",
       "      <th>2</th>\n",
       "      <td>1</td>\n",
       "      <td>50</td>\n",
       "      <td>7.60</td>\n",
       "      <td>0.002948</td>\n",
       "      <td>High</td>\n",
       "    </tr>\n",
       "    <tr>\n",
       "      <th>3</th>\n",
       "      <td>1</td>\n",
       "      <td>50</td>\n",
       "      <td>7.60</td>\n",
       "      <td>0.001932</td>\n",
       "      <td>High</td>\n",
       "    </tr>\n",
       "    <tr>\n",
       "      <th>4</th>\n",
       "      <td>1</td>\n",
       "      <td>50</td>\n",
       "      <td>7.60</td>\n",
       "      <td>0.005191</td>\n",
       "      <td>High</td>\n",
       "    </tr>\n",
       "    <tr>\n",
       "      <th>...</th>\n",
       "      <td>...</td>\n",
       "      <td>...</td>\n",
       "      <td>...</td>\n",
       "      <td>...</td>\n",
       "      <td>...</td>\n",
       "    </tr>\n",
       "    <tr>\n",
       "      <th>581</th>\n",
       "      <td>374</td>\n",
       "      <td>28</td>\n",
       "      <td>6.83</td>\n",
       "      <td>0.241446</td>\n",
       "      <td>Low</td>\n",
       "    </tr>\n",
       "    <tr>\n",
       "      <th>582</th>\n",
       "      <td>374</td>\n",
       "      <td>30</td>\n",
       "      <td>11.04</td>\n",
       "      <td>0.489938</td>\n",
       "      <td>Low</td>\n",
       "    </tr>\n",
       "    <tr>\n",
       "      <th>583</th>\n",
       "      <td>376</td>\n",
       "      <td>10</td>\n",
       "      <td>5.68</td>\n",
       "      <td>0.000407</td>\n",
       "      <td>High</td>\n",
       "    </tr>\n",
       "    <tr>\n",
       "      <th>584</th>\n",
       "      <td>376</td>\n",
       "      <td>20</td>\n",
       "      <td>5.96</td>\n",
       "      <td>0.001218</td>\n",
       "      <td>Low</td>\n",
       "    </tr>\n",
       "    <tr>\n",
       "      <th>585</th>\n",
       "      <td>376</td>\n",
       "      <td>30</td>\n",
       "      <td>4.76</td>\n",
       "      <td>0.003895</td>\n",
       "      <td>Low</td>\n",
       "    </tr>\n",
       "  </tbody>\n",
       "</table>\n",
       "<p>586 rows × 5 columns</p>\n",
       "</div>"
      ],
      "text/plain": [
       "     HIGHWAY  SECTION  SECTION LENGTH       ADT COIndex\n",
       "0          1       47            4.50  0.001571    High\n",
       "1          1       50            7.60  0.003282    High\n",
       "2          1       50            7.60  0.002948    High\n",
       "3          1       50            7.60  0.001932    High\n",
       "4          1       50            7.60  0.005191    High\n",
       "..       ...      ...             ...       ...     ...\n",
       "581      374       28            6.83  0.241446     Low\n",
       "582      374       30           11.04  0.489938     Low\n",
       "583      376       10            5.68  0.000407    High\n",
       "584      376       20            5.96  0.001218     Low\n",
       "585      376       30            4.76  0.003895     Low\n",
       "\n",
       "[586 rows x 5 columns]"
      ]
     },
     "execution_count": 23,
     "metadata": {},
     "output_type": "execute_result"
    }
   ],
   "source": [
    "MergedData"
   ]
  },
  {
   "cell_type": "code",
   "execution_count": 24,
   "id": "903c4b8c",
   "metadata": {
    "scrolled": true
   },
   "outputs": [
    {
     "data": {
      "text/plain": [
       "HIGHWAY             int64\n",
       "SECTION             int64\n",
       "SECTION LENGTH    float64\n",
       "ADT               float64\n",
       "COIndex            object\n",
       "dtype: object"
      ]
     },
     "execution_count": 24,
     "metadata": {},
     "output_type": "execute_result"
    }
   ],
   "source": [
    "MergedData.dtypes"
   ]
  },
  {
   "cell_type": "code",
   "execution_count": 25,
   "id": "83c562c9",
   "metadata": {},
   "outputs": [],
   "source": [
    "X = MergedData.values[:,0:4]\n",
    "Y = MergedData.values[:,-1]"
   ]
  },
  {
   "cell_type": "code",
   "execution_count": 26,
   "id": "d7035a48",
   "metadata": {},
   "outputs": [],
   "source": [
    "X_train, X_test, y_train, y_test = train_test_split(\n",
    "X,Y, test_size = 0.5, random_state = 100) "
   ]
  },
  {
   "cell_type": "code",
   "execution_count": 27,
   "id": "aa0e2f37",
   "metadata": {},
   "outputs": [
    {
     "data": {
      "text/plain": [
       "DecisionTreeClassifier()"
      ]
     },
     "execution_count": 27,
     "metadata": {},
     "output_type": "execute_result"
    }
   ],
   "source": [
    "clf_tree = DecisionTreeClassifier()\n",
    "clf_tree.fit(X_train,y_train)"
   ]
  },
  {
   "cell_type": "code",
   "execution_count": 28,
   "id": "f9deef4f",
   "metadata": {},
   "outputs": [],
   "source": [
    "y_trainpred = clf_tree.predict(X_train)"
   ]
  },
  {
   "cell_type": "code",
   "execution_count": 29,
   "id": "68d2d3a5",
   "metadata": {},
   "outputs": [
    {
     "name": "stdout",
     "output_type": "stream",
     "text": [
      "Confusion Matrix fot raining data: \n",
      " [[132   0]\n",
      " [  0 161]]\n"
     ]
    }
   ],
   "source": [
    "print(\"Confusion Matrix fot raining data: \\n\", confusion_matrix(y_train,y_trainpred))"
   ]
  },
  {
   "cell_type": "code",
   "execution_count": 30,
   "id": "8c45f4f4",
   "metadata": {},
   "outputs": [
    {
     "name": "stdout",
     "output_type": "stream",
     "text": [
      "Accuracy of training data: \n",
      " 100.0\n"
     ]
    }
   ],
   "source": [
    "print (\"Accuracy of training data: \\n\",\n",
    "accuracy_score(y_train,y_trainpred)*100)"
   ]
  },
  {
   "cell_type": "code",
   "execution_count": 31,
   "id": "5fcbd6cb",
   "metadata": {},
   "outputs": [],
   "source": [
    "y_pred = clf_tree.predict(X_test)"
   ]
  },
  {
   "cell_type": "code",
   "execution_count": 32,
   "id": "1fd550c6",
   "metadata": {
    "scrolled": true
   },
   "outputs": [
    {
     "name": "stdout",
     "output_type": "stream",
     "text": [
      "Confusion Matrix: \n",
      " [[ 76  49]\n",
      " [ 44 124]]\n"
     ]
    }
   ],
   "source": [
    "print(\"Confusion Matrix: \\n\", confusion_matrix(y_test,y_pred))"
   ]
  },
  {
   "cell_type": "code",
   "execution_count": 33,
   "id": "2c5b0b3c",
   "metadata": {},
   "outputs": [],
   "source": [
    "conmat = confusion_matrix(y_test,y_pred)"
   ]
  },
  {
   "cell_type": "code",
   "execution_count": 34,
   "id": "ae55b869",
   "metadata": {},
   "outputs": [],
   "source": [
    "TP = conmat[0][0]\n",
    "FN = conmat[0][1]\n",
    "FP = conmat[1][0]\n",
    "TN = conmat[1][1]"
   ]
  },
  {
   "cell_type": "code",
   "execution_count": 35,
   "id": "0491ee9f",
   "metadata": {
    "scrolled": true
   },
   "outputs": [
    {
     "data": {
      "text/plain": [
       "0.6825938566552902"
      ]
     },
     "execution_count": 35,
     "metadata": {},
     "output_type": "execute_result"
    }
   ],
   "source": [
    "Accuracy = (TP + TN)/(TP+FN+FP+TN)\n",
    "Accuracy"
   ]
  },
  {
   "cell_type": "code",
   "execution_count": 36,
   "id": "4aff623a",
   "metadata": {},
   "outputs": [
    {
     "data": {
      "text/plain": [
       "0.6333333333333333"
      ]
     },
     "execution_count": 36,
     "metadata": {},
     "output_type": "execute_result"
    }
   ],
   "source": [
    "Precision = TP/(TP+FP)\n",
    "Precision"
   ]
  },
  {
   "cell_type": "code",
   "execution_count": 37,
   "id": "966f040c",
   "metadata": {},
   "outputs": [
    {
     "data": {
      "text/plain": [
       "0.608"
      ]
     },
     "execution_count": 37,
     "metadata": {},
     "output_type": "execute_result"
    }
   ],
   "source": [
    "Recall = TP/(TP+FN)\n",
    "Recall"
   ]
  },
  {
   "cell_type": "code",
   "execution_count": 38,
   "id": "2f9acfa0",
   "metadata": {},
   "outputs": [
    {
     "data": {
      "text/plain": [
       "0.620408163265306"
      ]
     },
     "execution_count": 38,
     "metadata": {},
     "output_type": "execute_result"
    }
   ],
   "source": [
    "F1_measure = (2*(Recall)*(Precision))/(Recall+Precision)\n",
    "F1_measure"
   ]
  },
  {
   "cell_type": "code",
   "execution_count": 39,
   "id": "79ccd449",
   "metadata": {
    "scrolled": true
   },
   "outputs": [
    {
     "name": "stdout",
     "output_type": "stream",
     "text": [
      "Accuracy of testdata: \n",
      " 68.25938566552901\n"
     ]
    }
   ],
   "source": [
    "print (\"Accuracy of testdata: \\n\",\n",
    "accuracy_score(y_test,y_pred)*100)"
   ]
  },
  {
   "cell_type": "code",
   "execution_count": 40,
   "id": "996dbbfe",
   "metadata": {},
   "outputs": [
    {
     "name": "stdout",
     "output_type": "stream",
     "text": [
      "Report : \n",
      "               precision    recall  f1-score   support\n",
      "\n",
      "        High       0.63      0.61      0.62       125\n",
      "         Low       0.72      0.74      0.73       168\n",
      "\n",
      "    accuracy                           0.68       293\n",
      "   macro avg       0.68      0.67      0.67       293\n",
      "weighted avg       0.68      0.68      0.68       293\n",
      "\n"
     ]
    }
   ],
   "source": [
    "print(\"Report : \\n\",\n",
    "   classification_report(y_test, y_pred))"
   ]
  },
  {
   "cell_type": "code",
   "execution_count": 41,
   "id": "52a0ef24",
   "metadata": {
    "scrolled": false
   },
   "outputs": [
    {
     "data": {
      "text/plain": [
       "78"
      ]
     },
     "execution_count": 41,
     "metadata": {},
     "output_type": "execute_result"
    }
   ],
   "source": [
    "clf_tree.get_n_leaves()"
   ]
  },
  {
   "cell_type": "markdown",
   "id": "a7466aa5",
   "metadata": {},
   "source": [
    "**Creating model using 10-fold cross-validation technique**"
   ]
  },
  {
   "cell_type": "markdown",
   "id": "4b5d95a0",
   "metadata": {},
   "source": [
    "**Creating simple 10-fold cross validation without shuffling**"
   ]
  },
  {
   "cell_type": "code",
   "execution_count": 42,
   "id": "ac821796",
   "metadata": {
    "scrolled": true
   },
   "outputs": [
    {
     "data": {
      "text/plain": [
       "array([0.44067797, 0.55932203, 0.42372881, 0.23728814, 0.61016949,\n",
       "       0.59322034, 0.70689655, 0.43103448, 0.53448276, 0.5862069 ])"
      ]
     },
     "execution_count": 42,
     "metadata": {},
     "output_type": "execute_result"
    }
   ],
   "source": [
    "# 10 - fold\n",
    "model = DecisionTreeClassifier()\n",
    "scores = cross_val_score(model, X, Y,cv=10,scoring='accuracy')\n",
    "scores"
   ]
  },
  {
   "cell_type": "code",
   "execution_count": 43,
   "id": "0965620b",
   "metadata": {},
   "outputs": [
    {
     "name": "stdout",
     "output_type": "stream",
     "text": [
      "0.51 accuracy with a standard deviation of 0.13\n"
     ]
    }
   ],
   "source": [
    "print(\"%0.2f accuracy with a standard deviation of %0.2f\" % (scores.mean(), scores.std()))\n"
   ]
  },
  {
   "cell_type": "markdown",
   "id": "ca87f170",
   "metadata": {},
   "source": [
    "**Creating simple 10-fold cross validation with shuffling**"
   ]
  },
  {
   "cell_type": "code",
   "execution_count": 44,
   "id": "5a1269a9",
   "metadata": {},
   "outputs": [
    {
     "data": {
      "text/plain": [
       "array([0.66101695, 0.69491525, 0.81355932, 0.74576271, 0.71186441,\n",
       "       0.76271186, 0.86440678, 0.81355932, 0.79661017, 0.77966102])"
      ]
     },
     "execution_count": 44,
     "metadata": {},
     "output_type": "execute_result"
    }
   ],
   "source": [
    "#shuffled 10-fold\n",
    "model = DecisionTreeClassifier()\n",
    "cv = ShuffleSplit(n_splits=10, random_state=0)\n",
    "scores = cross_val_score(model, X, Y,cv=cv, scoring='accuracy')\n",
    "scores"
   ]
  },
  {
   "cell_type": "code",
   "execution_count": 45,
   "id": "b2de5531",
   "metadata": {},
   "outputs": [
    {
     "name": "stdout",
     "output_type": "stream",
     "text": [
      "0.76 accuracy with a standard deviation of 0.06\n"
     ]
    }
   ],
   "source": [
    "print(\"%0.2f accuracy with a standard deviation of %0.2f\" % (scores.mean(), scores.std()))\n"
   ]
  },
  {
   "cell_type": "markdown",
   "id": "ded38e91",
   "metadata": {},
   "source": [
    "**Creating confusion matrix and classification report for each fold in 10-fold cross validation**"
   ]
  },
  {
   "cell_type": "code",
   "execution_count": 46,
   "id": "94181b94",
   "metadata": {},
   "outputs": [
    {
     "name": "stdout",
     "output_type": "stream",
     "text": [
      "Report : \n",
      "               precision    recall  f1-score   support\n",
      "\n",
      "        High       0.39      0.23      0.29        31\n",
      "         Low       0.41      0.61      0.49        28\n",
      "\n",
      "    accuracy                           0.41        59\n",
      "   macro avg       0.40      0.42      0.39        59\n",
      "weighted avg       0.40      0.41      0.38        59\n",
      "\n",
      "Report : \n",
      "               precision    recall  f1-score   support\n",
      "\n",
      "        High       0.24      0.38      0.29        21\n",
      "         Low       0.48      0.32      0.38        38\n",
      "\n",
      "    accuracy                           0.34        59\n",
      "   macro avg       0.36      0.35      0.34        59\n",
      "weighted avg       0.39      0.34      0.35        59\n",
      "\n",
      "Report : \n",
      "               precision    recall  f1-score   support\n",
      "\n",
      "        High       0.14      0.07      0.10        28\n",
      "         Low       0.42      0.61      0.50        31\n",
      "\n",
      "    accuracy                           0.36        59\n",
      "   macro avg       0.28      0.34      0.30        59\n",
      "weighted avg       0.29      0.36      0.31        59\n",
      "\n",
      "Report : \n",
      "               precision    recall  f1-score   support\n",
      "\n",
      "        High       0.33      0.31      0.32        26\n",
      "         Low       0.49      0.52      0.50        33\n",
      "\n",
      "    accuracy                           0.42        59\n",
      "   macro avg       0.41      0.41      0.41        59\n",
      "weighted avg       0.42      0.42      0.42        59\n",
      "\n",
      "Report : \n",
      "               precision    recall  f1-score   support\n",
      "\n",
      "        High       0.43      0.50      0.46        26\n",
      "         Low       0.55      0.48      0.52        33\n",
      "\n",
      "    accuracy                           0.49        59\n",
      "   macro avg       0.49      0.49      0.49        59\n",
      "weighted avg       0.50      0.49      0.49        59\n",
      "\n",
      "Report : \n",
      "               precision    recall  f1-score   support\n",
      "\n",
      "        High       0.21      0.35      0.27        17\n",
      "         Low       0.65      0.48      0.55        42\n",
      "\n",
      "    accuracy                           0.44        59\n",
      "   macro avg       0.43      0.41      0.41        59\n",
      "weighted avg       0.52      0.44      0.47        59\n",
      "\n",
      "Report : \n",
      "               precision    recall  f1-score   support\n",
      "\n",
      "        High       0.67      0.36      0.47        28\n",
      "         Low       0.58      0.83      0.68        30\n",
      "\n",
      "    accuracy                           0.60        58\n",
      "   macro avg       0.62      0.60      0.58        58\n",
      "weighted avg       0.62      0.60      0.58        58\n",
      "\n",
      "Report : \n",
      "               precision    recall  f1-score   support\n",
      "\n",
      "        High       0.54      0.38      0.44        37\n",
      "         Low       0.28      0.43      0.34        21\n",
      "\n",
      "    accuracy                           0.40        58\n",
      "   macro avg       0.41      0.40      0.39        58\n",
      "weighted avg       0.45      0.40      0.41        58\n",
      "\n",
      "Report : \n",
      "               precision    recall  f1-score   support\n",
      "\n",
      "        High       0.43      1.00      0.60        25\n",
      "         Low       0.00      0.00      0.00        33\n",
      "\n",
      "    accuracy                           0.43        58\n",
      "   macro avg       0.22      0.50      0.30        58\n",
      "weighted avg       0.19      0.43      0.26        58\n",
      "\n",
      "Report : \n",
      "               precision    recall  f1-score   support\n",
      "\n",
      "        High       0.20      0.17      0.18        18\n",
      "         Low       0.65      0.70      0.67        40\n",
      "\n",
      "    accuracy                           0.53        58\n",
      "   macro avg       0.43      0.43      0.43        58\n",
      "weighted avg       0.51      0.53      0.52        58\n",
      "\n"
     ]
    },
    {
     "name": "stderr",
     "output_type": "stream",
     "text": [
      "C:\\Users\\Mayank\\AppData\\Local\\Programs\\Python\\Python38\\lib\\site-packages\\sklearn\\metrics\\_classification.py:1308: UndefinedMetricWarning: Precision and F-score are ill-defined and being set to 0.0 in labels with no predicted samples. Use `zero_division` parameter to control this behavior.\n",
      "  _warn_prf(average, modifier, msg_start, len(result))\n",
      "C:\\Users\\Mayank\\AppData\\Local\\Programs\\Python\\Python38\\lib\\site-packages\\sklearn\\metrics\\_classification.py:1308: UndefinedMetricWarning: Precision and F-score are ill-defined and being set to 0.0 in labels with no predicted samples. Use `zero_division` parameter to control this behavior.\n",
      "  _warn_prf(average, modifier, msg_start, len(result))\n",
      "C:\\Users\\Mayank\\AppData\\Local\\Programs\\Python\\Python38\\lib\\site-packages\\sklearn\\metrics\\_classification.py:1308: UndefinedMetricWarning: Precision and F-score are ill-defined and being set to 0.0 in labels with no predicted samples. Use `zero_division` parameter to control this behavior.\n",
      "  _warn_prf(average, modifier, msg_start, len(result))\n"
     ]
    }
   ],
   "source": [
    "conf_matrix_list = []\n",
    "kf = KFold(n_splits=10)\n",
    "for train_index, test_index in kf.split(X):\n",
    "    Xtrain, Xtest = X[train_index], X[test_index]\n",
    "    ytrain, ytest = Y[train_index], Y[test_index]\n",
    "    \n",
    "    clf_tree.fit(Xtrain, ytrain)\n",
    "    \n",
    "    ypred = clf_tree.predict(Xtest)\n",
    "    conf_matrix = confusion_matrix(ytest, ypred)\n",
    "    conf_matrix_list .append(conf_matrix)\n",
    "    print(\"Report : \\n\",classification_report(ytest, ypred))"
   ]
  },
  {
   "cell_type": "code",
   "execution_count": 47,
   "id": "e6be67b7",
   "metadata": {},
   "outputs": [
    {
     "data": {
      "text/plain": [
       "[array([[ 7, 24],\n",
       "        [11, 17]], dtype=int64),\n",
       " array([[ 8, 13],\n",
       "        [26, 12]], dtype=int64),\n",
       " array([[ 2, 26],\n",
       "        [12, 19]], dtype=int64),\n",
       " array([[ 8, 18],\n",
       "        [16, 17]], dtype=int64),\n",
       " array([[13, 13],\n",
       "        [17, 16]], dtype=int64),\n",
       " array([[ 6, 11],\n",
       "        [22, 20]], dtype=int64),\n",
       " array([[10, 18],\n",
       "        [ 5, 25]], dtype=int64),\n",
       " array([[14, 23],\n",
       "        [12,  9]], dtype=int64),\n",
       " array([[25,  0],\n",
       "        [33,  0]], dtype=int64),\n",
       " array([[ 3, 15],\n",
       "        [12, 28]], dtype=int64)]"
      ]
     },
     "execution_count": 47,
     "metadata": {},
     "output_type": "execute_result"
    }
   ],
   "source": [
    "conf_matrix_list"
   ]
  },
  {
   "cell_type": "markdown",
   "id": "6d83c55f",
   "metadata": {},
   "source": [
    "**mean of all 10 confusion matrices**"
   ]
  },
  {
   "cell_type": "code",
   "execution_count": 48,
   "id": "948e36ec",
   "metadata": {
    "scrolled": false
   },
   "outputs": [
    {
     "data": {
      "text/plain": [
       "array([[ 9.6, 16.1],\n",
       "       [16.6, 16.3]])"
      ]
     },
     "execution_count": 48,
     "metadata": {},
     "output_type": "execute_result"
    }
   ],
   "source": [
    "mean_of_conf_matrix_arrays = np.mean(conf_matrix_list, axis=0)\n",
    "mean_of_conf_matrix_arrays"
   ]
  },
  {
   "cell_type": "markdown",
   "id": "72194c0d",
   "metadata": {},
   "source": [
    "**Finding True positive(TP), False Negative(FN), False Positive(FP), True Negative(TN)**"
   ]
  },
  {
   "cell_type": "code",
   "execution_count": 49,
   "id": "eaf66897",
   "metadata": {},
   "outputs": [],
   "source": [
    "TP = mean_of_conf_matrix_arrays[0][0]\n",
    "FN = mean_of_conf_matrix_arrays[0][1]\n",
    "FP = mean_of_conf_matrix_arrays[1][0]\n",
    "TN = mean_of_conf_matrix_arrays[1][1]"
   ]
  },
  {
   "cell_type": "markdown",
   "id": "bce710f4",
   "metadata": {},
   "source": [
    "**Finding of Accuracy based on mean of Confusion matrix**"
   ]
  },
  {
   "cell_type": "code",
   "execution_count": 50,
   "id": "de73389f",
   "metadata": {
    "scrolled": true
   },
   "outputs": [
    {
     "data": {
      "text/plain": [
       "0.44197952218430026"
      ]
     },
     "execution_count": 50,
     "metadata": {},
     "output_type": "execute_result"
    }
   ],
   "source": [
    "Accuracy = (TP + TN)/(TP+FN+FP+TN)\n",
    "Accuracy"
   ]
  },
  {
   "cell_type": "markdown",
   "id": "d9fce976",
   "metadata": {},
   "source": [
    "**Finding of Precision based on mean of Confusion matrix**"
   ]
  },
  {
   "cell_type": "code",
   "execution_count": 51,
   "id": "4f7a462b",
   "metadata": {},
   "outputs": [
    {
     "data": {
      "text/plain": [
       "0.36641221374045796"
      ]
     },
     "execution_count": 51,
     "metadata": {},
     "output_type": "execute_result"
    }
   ],
   "source": [
    "Precision = TP/(TP+FP)\n",
    "Precision"
   ]
  },
  {
   "cell_type": "markdown",
   "id": "7449d0aa",
   "metadata": {},
   "source": [
    "**Finding of Recall based on mean of Confusion matrix**"
   ]
  },
  {
   "cell_type": "code",
   "execution_count": 52,
   "id": "d7525d3f",
   "metadata": {},
   "outputs": [
    {
     "data": {
      "text/plain": [
       "0.37354085603112835"
      ]
     },
     "execution_count": 52,
     "metadata": {},
     "output_type": "execute_result"
    }
   ],
   "source": [
    "Recall = TP/(TP+FN)\n",
    "Recall"
   ]
  },
  {
   "cell_type": "markdown",
   "id": "e8ac9769",
   "metadata": {},
   "source": [
    "**Finding of F1-measure based on Recall and Precision**"
   ]
  },
  {
   "cell_type": "code",
   "execution_count": 53,
   "id": "3c3f5978",
   "metadata": {},
   "outputs": [
    {
     "data": {
      "text/plain": [
       "0.36994219653179183"
      ]
     },
     "execution_count": 53,
     "metadata": {},
     "output_type": "execute_result"
    }
   ],
   "source": [
    "F1_measure = (2*(Recall)*(Precision))/(Recall+Precision)\n",
    "F1_measure"
   ]
  },
  {
   "cell_type": "markdown",
   "id": "6f31049b",
   "metadata": {},
   "source": [
    "**What is the most influential factor for COlevel? Why?**"
   ]
  },
  {
   "cell_type": "code",
   "execution_count": 54,
   "id": "70e0a59e",
   "metadata": {
    "scrolled": false
   },
   "outputs": [
    {
     "data": {
      "text/plain": [
       "HIGHWAY           0.294408\n",
       "SECTION           0.167913\n",
       "SECTION LENGTH    0.171078\n",
       "ADT               0.366600\n",
       "dtype: float64"
      ]
     },
     "execution_count": 54,
     "metadata": {},
     "output_type": "execute_result"
    }
   ],
   "source": [
    "demo = MergedData.drop('COIndex',axis = 1)\n",
    "pd.Series(clf_tree.feature_importances_ , index = demo.columns)"
   ]
  },
  {
   "cell_type": "markdown",
   "id": "9478f10a",
   "metadata": {},
   "source": [
    "**Hyperparameter tuning**"
   ]
  },
  {
   "cell_type": "markdown",
   "id": "18a6466a",
   "metadata": {},
   "source": [
    "**max_depth**"
   ]
  },
  {
   "cell_type": "markdown",
   "id": "3146575e",
   "metadata": {},
   "source": [
    "**decresing the max_depth will help tackling overfitting of data as we faced with default decision_tree_classifier**"
   ]
  },
  {
   "cell_type": "code",
   "execution_count": 55,
   "id": "40d407ed",
   "metadata": {
    "scrolled": true
   },
   "outputs": [
    {
     "data": {
      "text/plain": [
       "DecisionTreeClassifier(max_depth=8)"
      ]
     },
     "execution_count": 55,
     "metadata": {},
     "output_type": "execute_result"
    }
   ],
   "source": [
    "clf_exptree1 = DecisionTreeClassifier(max_depth=8)\n",
    "clf_exptree1.fit(X_train,y_train)"
   ]
  },
  {
   "cell_type": "code",
   "execution_count": 56,
   "id": "60a168db",
   "metadata": {},
   "outputs": [
    {
     "name": "stdout",
     "output_type": "stream",
     "text": [
      "Confusion Matrix: \n",
      " [[ 85  47]\n",
      " [ 10 151]]\n",
      "Report : \n",
      "               precision    recall  f1-score   support\n",
      "\n",
      "        High       0.89      0.64      0.75       132\n",
      "         Low       0.76      0.94      0.84       161\n",
      "\n",
      "    accuracy                           0.81       293\n",
      "   macro avg       0.83      0.79      0.80       293\n",
      "weighted avg       0.82      0.81      0.80       293\n",
      "\n"
     ]
    }
   ],
   "source": [
    "y_exppred = clf_exptree1.predict(X_train)\n",
    "print(\"Confusion Matrix: \\n\", confusion_matrix(y_train,y_exppred))\n",
    "print(\"Report : \\n\",\n",
    "   classification_report(y_train, y_exppred))"
   ]
  },
  {
   "cell_type": "code",
   "execution_count": 57,
   "id": "a50f0ebe",
   "metadata": {},
   "outputs": [
    {
     "name": "stdout",
     "output_type": "stream",
     "text": [
      "Confusion Matrix: \n",
      " [[ 51  74]\n",
      " [ 30 138]]\n",
      "Report : \n",
      "               precision    recall  f1-score   support\n",
      "\n",
      "        High       0.63      0.41      0.50       125\n",
      "         Low       0.65      0.82      0.73       168\n",
      "\n",
      "    accuracy                           0.65       293\n",
      "   macro avg       0.64      0.61      0.61       293\n",
      "weighted avg       0.64      0.65      0.63       293\n",
      "\n"
     ]
    }
   ],
   "source": [
    "y_exppred = clf_exptree1.predict(X_test)\n",
    "print(\"Confusion Matrix: \\n\", confusion_matrix(y_test,y_exppred))\n",
    "print(\"Report : \\n\",\n",
    "   classification_report(y_test, y_exppred))"
   ]
  },
  {
   "cell_type": "markdown",
   "id": "5af93eb5",
   "metadata": {},
   "source": [
    "**But if we give max_depth very low our model will go into underfitting as shown below**"
   ]
  },
  {
   "cell_type": "code",
   "execution_count": 58,
   "id": "1ecad179",
   "metadata": {},
   "outputs": [
    {
     "data": {
      "text/plain": [
       "DecisionTreeClassifier(max_depth=2)"
      ]
     },
     "execution_count": 58,
     "metadata": {},
     "output_type": "execute_result"
    }
   ],
   "source": [
    "clf_exptree1 = DecisionTreeClassifier(max_depth=2)\n",
    "clf_exptree1.fit(X_train,y_train)"
   ]
  },
  {
   "cell_type": "code",
   "execution_count": 59,
   "id": "252a0572",
   "metadata": {},
   "outputs": [
    {
     "name": "stdout",
     "output_type": "stream",
     "text": [
      "Confusion Matrix: \n",
      " [[ 10 122]\n",
      " [  0 161]]\n",
      "Report : \n",
      "               precision    recall  f1-score   support\n",
      "\n",
      "        High       1.00      0.08      0.14       132\n",
      "         Low       0.57      1.00      0.73       161\n",
      "\n",
      "    accuracy                           0.58       293\n",
      "   macro avg       0.78      0.54      0.43       293\n",
      "weighted avg       0.76      0.58      0.46       293\n",
      "\n"
     ]
    }
   ],
   "source": [
    "y_exppred = clf_exptree1.predict(X_train)\n",
    "print(\"Confusion Matrix: \\n\", confusion_matrix(y_train,y_exppred))\n",
    "print(\"Report : \\n\",\n",
    "   classification_report(y_train, y_exppred))"
   ]
  },
  {
   "cell_type": "code",
   "execution_count": 60,
   "id": "cb13f1d8",
   "metadata": {},
   "outputs": [
    {
     "name": "stdout",
     "output_type": "stream",
     "text": [
      "Confusion Matrix: \n",
      " [[  5 120]\n",
      " [  1 167]]\n",
      "Report : \n",
      "               precision    recall  f1-score   support\n",
      "\n",
      "        High       0.83      0.04      0.08       125\n",
      "         Low       0.58      0.99      0.73       168\n",
      "\n",
      "    accuracy                           0.59       293\n",
      "   macro avg       0.71      0.52      0.41       293\n",
      "weighted avg       0.69      0.59      0.45       293\n",
      "\n"
     ]
    }
   ],
   "source": [
    "y_exppred = clf_exptree1.predict(X_test)\n",
    "print(\"Confusion Matrix: \\n\", confusion_matrix(y_test,y_exppred))\n",
    "print(\"Report : \\n\",\n",
    "   classification_report(y_test, y_exppred))"
   ]
  },
  {
   "cell_type": "markdown",
   "id": "a3c747de",
   "metadata": {},
   "source": [
    "**min_samples_split**"
   ]
  },
  {
   "cell_type": "markdown",
   "id": "5ade6297",
   "metadata": {},
   "source": [
    "**Increasing min_samples_split can help reducing overfitting in model as shown below**"
   ]
  },
  {
   "cell_type": "code",
   "execution_count": 61,
   "id": "5e9f5d84",
   "metadata": {},
   "outputs": [
    {
     "data": {
      "text/plain": [
       "DecisionTreeClassifier(min_samples_split=9)"
      ]
     },
     "execution_count": 61,
     "metadata": {},
     "output_type": "execute_result"
    }
   ],
   "source": [
    "clf_exptree2 = DecisionTreeClassifier(min_samples_split=9)\n",
    "clf_exptree2.fit(X_train,y_train)"
   ]
  },
  {
   "cell_type": "code",
   "execution_count": 62,
   "id": "cb6e82fa",
   "metadata": {},
   "outputs": [
    {
     "name": "stdout",
     "output_type": "stream",
     "text": [
      "Confusion Matrix: \n",
      " [[119  13]\n",
      " [ 20 141]]\n",
      "Report : \n",
      "               precision    recall  f1-score   support\n",
      "\n",
      "        High       0.86      0.90      0.88       132\n",
      "         Low       0.92      0.88      0.90       161\n",
      "\n",
      "    accuracy                           0.89       293\n",
      "   macro avg       0.89      0.89      0.89       293\n",
      "weighted avg       0.89      0.89      0.89       293\n",
      "\n"
     ]
    }
   ],
   "source": [
    "y_exppred = clf_exptree2.predict(X_train)\n",
    "print(\"Confusion Matrix: \\n\", confusion_matrix(y_train,y_exppred))\n",
    "print(\"Report : \\n\",\n",
    "   classification_report(y_train, y_exppred))"
   ]
  },
  {
   "cell_type": "code",
   "execution_count": 63,
   "id": "60feabdb",
   "metadata": {},
   "outputs": [
    {
     "name": "stdout",
     "output_type": "stream",
     "text": [
      "Confusion Matrix: \n",
      " [[ 74  51]\n",
      " [ 55 113]]\n",
      "Report : \n",
      "               precision    recall  f1-score   support\n",
      "\n",
      "        High       0.57      0.59      0.58       125\n",
      "         Low       0.69      0.67      0.68       168\n",
      "\n",
      "    accuracy                           0.64       293\n",
      "   macro avg       0.63      0.63      0.63       293\n",
      "weighted avg       0.64      0.64      0.64       293\n",
      "\n"
     ]
    }
   ],
   "source": [
    "y_exppred = clf_exptree2.predict(X_test)\n",
    "print(\"Confusion Matrix: \\n\", confusion_matrix(y_test,y_exppred))\n",
    "print(\"Report : \\n\",\n",
    "   classification_report(y_test, y_exppred))"
   ]
  },
  {
   "cell_type": "markdown",
   "id": "f2905f4f",
   "metadata": {},
   "source": [
    "**But too high values for min_samples_split can lead to underfitting as shown below**"
   ]
  },
  {
   "cell_type": "code",
   "execution_count": 64,
   "id": "a67cbffa",
   "metadata": {},
   "outputs": [
    {
     "data": {
      "text/plain": [
       "DecisionTreeClassifier(min_samples_split=50)"
      ]
     },
     "execution_count": 64,
     "metadata": {},
     "output_type": "execute_result"
    }
   ],
   "source": [
    "clf_exptree2 = DecisionTreeClassifier(min_samples_split=50)\n",
    "clf_exptree2.fit(X_train,y_train)"
   ]
  },
  {
   "cell_type": "code",
   "execution_count": 65,
   "id": "18a04e15",
   "metadata": {},
   "outputs": [
    {
     "name": "stdout",
     "output_type": "stream",
     "text": [
      "Confusion Matrix: \n",
      " [[113  19]\n",
      " [ 57 104]]\n",
      "Report : \n",
      "               precision    recall  f1-score   support\n",
      "\n",
      "        High       0.66      0.86      0.75       132\n",
      "         Low       0.85      0.65      0.73       161\n",
      "\n",
      "    accuracy                           0.74       293\n",
      "   macro avg       0.76      0.75      0.74       293\n",
      "weighted avg       0.76      0.74      0.74       293\n",
      "\n"
     ]
    }
   ],
   "source": [
    "y_exppred = clf_exptree2.predict(X_train)\n",
    "print(\"Confusion Matrix: \\n\", confusion_matrix(y_train,y_exppred))\n",
    "print(\"Report : \\n\",\n",
    "   classification_report(y_train, y_exppred))"
   ]
  },
  {
   "cell_type": "code",
   "execution_count": 66,
   "id": "bb235dc7",
   "metadata": {},
   "outputs": [
    {
     "name": "stdout",
     "output_type": "stream",
     "text": [
      "Confusion Matrix: \n",
      " [[83 42]\n",
      " [74 94]]\n",
      "Report : \n",
      "               precision    recall  f1-score   support\n",
      "\n",
      "        High       0.53      0.66      0.59       125\n",
      "         Low       0.69      0.56      0.62       168\n",
      "\n",
      "    accuracy                           0.60       293\n",
      "   macro avg       0.61      0.61      0.60       293\n",
      "weighted avg       0.62      0.60      0.61       293\n",
      "\n"
     ]
    }
   ],
   "source": [
    "y_exppred = clf_exptree2.predict(X_test)\n",
    "print(\"Confusion Matrix: \\n\", confusion_matrix(y_test,y_exppred))\n",
    "print(\"Report : \\n\",\n",
    "   classification_report(y_test, y_exppred))"
   ]
  },
  {
   "cell_type": "markdown",
   "id": "bee58157",
   "metadata": {},
   "source": [
    "**min_samples_leaf**"
   ]
  },
  {
   "cell_type": "markdown",
   "id": "72b3c89f",
   "metadata": {},
   "source": [
    "**by increasing min_samples_leaf we can overcome overfitting of model as shown below**"
   ]
  },
  {
   "cell_type": "code",
   "execution_count": 67,
   "id": "40f0dbd5",
   "metadata": {},
   "outputs": [
    {
     "data": {
      "text/plain": [
       "DecisionTreeClassifier(min_samples_leaf=10)"
      ]
     },
     "execution_count": 67,
     "metadata": {},
     "output_type": "execute_result"
    }
   ],
   "source": [
    "clf_exptree3 = DecisionTreeClassifier(min_samples_leaf=10)\n",
    "clf_exptree3.fit(X_train,y_train)"
   ]
  },
  {
   "cell_type": "code",
   "execution_count": 68,
   "id": "8bf2454e",
   "metadata": {},
   "outputs": [
    {
     "name": "stdout",
     "output_type": "stream",
     "text": [
      "Confusion Matrix: \n",
      " [[ 90  42]\n",
      " [ 21 140]]\n",
      "Report : \n",
      "               precision    recall  f1-score   support\n",
      "\n",
      "        High       0.81      0.68      0.74       132\n",
      "         Low       0.77      0.87      0.82       161\n",
      "\n",
      "    accuracy                           0.78       293\n",
      "   macro avg       0.79      0.78      0.78       293\n",
      "weighted avg       0.79      0.78      0.78       293\n",
      "\n"
     ]
    }
   ],
   "source": [
    "y_exppred = clf_exptree3.predict(X_train)\n",
    "print(\"Confusion Matrix: \\n\", confusion_matrix(y_train,y_exppred))\n",
    "print(\"Report : \\n\",\n",
    "   classification_report(y_train, y_exppred))"
   ]
  },
  {
   "cell_type": "code",
   "execution_count": 69,
   "id": "65b1de94",
   "metadata": {},
   "outputs": [
    {
     "name": "stdout",
     "output_type": "stream",
     "text": [
      "Confusion Matrix: \n",
      " [[ 59  66]\n",
      " [ 40 128]]\n",
      "Report : \n",
      "               precision    recall  f1-score   support\n",
      "\n",
      "        High       0.60      0.47      0.53       125\n",
      "         Low       0.66      0.76      0.71       168\n",
      "\n",
      "    accuracy                           0.64       293\n",
      "   macro avg       0.63      0.62      0.62       293\n",
      "weighted avg       0.63      0.64      0.63       293\n",
      "\n"
     ]
    }
   ],
   "source": [
    "y_exppred = clf_exptree3.predict(X_test)\n",
    "print(\"Confusion Matrix: \\n\", confusion_matrix(y_test,y_exppred))\n",
    "print(\"Report : \\n\",\n",
    "   classification_report(y_test, y_exppred))"
   ]
  },
  {
   "cell_type": "markdown",
   "id": "3ca66f2a",
   "metadata": {},
   "source": [
    "**But too high values for min_samples_leaf can lead to underfitting as shown below**"
   ]
  },
  {
   "cell_type": "code",
   "execution_count": 70,
   "id": "c0bc0295",
   "metadata": {},
   "outputs": [
    {
     "data": {
      "text/plain": [
       "DecisionTreeClassifier(min_samples_leaf=50)"
      ]
     },
     "execution_count": 70,
     "metadata": {},
     "output_type": "execute_result"
    }
   ],
   "source": [
    "clf_exptree3 = DecisionTreeClassifier(min_samples_leaf=50)\n",
    "clf_exptree3.fit(X_train,y_train)"
   ]
  },
  {
   "cell_type": "code",
   "execution_count": 71,
   "id": "1d81df01",
   "metadata": {},
   "outputs": [
    {
     "name": "stdout",
     "output_type": "stream",
     "text": [
      "Confusion Matrix: \n",
      " [[ 43  89]\n",
      " [ 27 134]]\n",
      "Report : \n",
      "               precision    recall  f1-score   support\n",
      "\n",
      "        High       0.61      0.33      0.43       132\n",
      "         Low       0.60      0.83      0.70       161\n",
      "\n",
      "    accuracy                           0.60       293\n",
      "   macro avg       0.61      0.58      0.56       293\n",
      "weighted avg       0.61      0.60      0.58       293\n",
      "\n"
     ]
    }
   ],
   "source": [
    "y_exppred = clf_exptree3.predict(X_train)\n",
    "print(\"Confusion Matrix: \\n\", confusion_matrix(y_train,y_exppred))\n",
    "print(\"Report : \\n\",\n",
    "   classification_report(y_train, y_exppred))"
   ]
  },
  {
   "cell_type": "code",
   "execution_count": 72,
   "id": "0bce637f",
   "metadata": {},
   "outputs": [
    {
     "name": "stdout",
     "output_type": "stream",
     "text": [
      "Confusion Matrix: \n",
      " [[ 33  92]\n",
      " [ 38 130]]\n",
      "Report : \n",
      "               precision    recall  f1-score   support\n",
      "\n",
      "        High       0.46      0.26      0.34       125\n",
      "         Low       0.59      0.77      0.67       168\n",
      "\n",
      "    accuracy                           0.56       293\n",
      "   macro avg       0.53      0.52      0.50       293\n",
      "weighted avg       0.53      0.56      0.53       293\n",
      "\n"
     ]
    }
   ],
   "source": [
    "y_exppred = clf_exptree3.predict(X_test)\n",
    "print(\"Confusion Matrix: \\n\", confusion_matrix(y_test,y_exppred))\n",
    "print(\"Report : \\n\",\n",
    "   classification_report(y_test, y_exppred))"
   ]
  }
 ],
 "metadata": {
  "kernelspec": {
   "display_name": "Python 3 (ipykernel)",
   "language": "python",
   "name": "python3"
  },
  "language_info": {
   "codemirror_mode": {
    "name": "ipython",
    "version": 3
   },
   "file_extension": ".py",
   "mimetype": "text/x-python",
   "name": "python",
   "nbconvert_exporter": "python",
   "pygments_lexer": "ipython3",
   "version": "3.8.6"
  }
 },
 "nbformat": 4,
 "nbformat_minor": 5
}
